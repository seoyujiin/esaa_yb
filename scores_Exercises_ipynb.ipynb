{
  "nbformat": 4,
  "nbformat_minor": 0,
  "metadata": {
    "kernelspec": {
      "display_name": "Python 2",
      "language": "python",
      "name": "python2"
    },
    "language_info": {
      "codemirror_mode": {
        "name": "ipython",
        "version": 2
      },
      "file_extension": ".py",
      "mimetype": "text/x-python",
      "name": "python",
      "nbconvert_exporter": "python",
      "pygments_lexer": "ipython2",
      "version": "2.7.11"
    },
    "colab": {
      "provenance": [],
      "include_colab_link": true
    }
  },
  "cells": [
    {
      "cell_type": "markdown",
      "metadata": {
        "id": "view-in-github",
        "colab_type": "text"
      },
      "source": [
        "<a href=\"https://colab.research.google.com/github/seoyujiin/esaa_yb/blob/main/scores_Exercises_ipynb.ipynb\" target=\"_parent\"><img src=\"https://colab.research.google.com/assets/colab-badge.svg\" alt=\"Open In Colab\"/></a>"
      ]
    },
    {
      "cell_type": "markdown",
      "metadata": {
        "id": "x7giA_64TyaP"
      },
      "source": [
        "# Scores"
      ]
    },
    {
      "cell_type": "markdown",
      "metadata": {
        "id": "QF9cOwySTyaZ"
      },
      "source": [
        "### Introduction:\n",
        "\n",
        "This time you will create the data.\n",
        "\n",
        "***Exercise based on [Chris Albon](http://chrisalbon.com/) work, the credits belong to him.***\n",
        "\n",
        "### Step 1. Import the necessary libraries"
      ]
    },
    {
      "cell_type": "code",
      "metadata": {
        "id": "fIwcm8dxTyab"
      },
      "source": [
        "import pandas as pd\n",
        "import matplotlib.pyplot as plt\n",
        "import numpy as np\n",
        "\n",
        "%matplotlib inline"
      ],
      "execution_count": 1,
      "outputs": []
    },
    {
      "cell_type": "markdown",
      "metadata": {
        "id": "hclbDys1Tyac"
      },
      "source": [
        "### Step 2. Create the DataFrame that should look like the one below."
      ]
    },
    {
      "cell_type": "code",
      "metadata": {
        "id": "QxS6quB1Tyad",
        "outputId": "6229f06f-1b55-40ee-8a4b-c4ef9508b508",
        "colab": {
          "base_uri": "https://localhost:8080/",
          "height": 206
        }
      },
      "source": [
        "rowdata = {'first_name': ['Jason', 'Molly', 'Tina', 'Jake', 'Amy'],\n",
        "      'last_name': ['Miller', 'Jacobson', 'Ali', 'Milner', 'Cooze'],\n",
        "      'age': [42, 52, 36, 24, 73],\n",
        "      'female': [0, 1, 1, 0, 1],\n",
        "      'preTestScore': [4, 24, 31, 2, 3],\n",
        "      'postTestScore': [25, 94, 57, 62, 70]}\n",
        "\n",
        "df = pd.DataFrame(rowdata)\n",
        "df"
      ],
      "execution_count": 2,
      "outputs": [
        {
          "output_type": "execute_result",
          "data": {
            "text/plain": [
              "  first_name last_name  age  female  preTestScore  postTestScore\n",
              "0      Jason    Miller   42       0             4             25\n",
              "1      Molly  Jacobson   52       1            24             94\n",
              "2       Tina       Ali   36       1            31             57\n",
              "3       Jake    Milner   24       0             2             62\n",
              "4        Amy     Cooze   73       1             3             70"
            ],
            "text/html": [
              "\n",
              "  <div id=\"df-132b5ba9-06e8-494b-8574-5cf8490e537a\">\n",
              "    <div class=\"colab-df-container\">\n",
              "      <div>\n",
              "<style scoped>\n",
              "    .dataframe tbody tr th:only-of-type {\n",
              "        vertical-align: middle;\n",
              "    }\n",
              "\n",
              "    .dataframe tbody tr th {\n",
              "        vertical-align: top;\n",
              "    }\n",
              "\n",
              "    .dataframe thead th {\n",
              "        text-align: right;\n",
              "    }\n",
              "</style>\n",
              "<table border=\"1\" class=\"dataframe\">\n",
              "  <thead>\n",
              "    <tr style=\"text-align: right;\">\n",
              "      <th></th>\n",
              "      <th>first_name</th>\n",
              "      <th>last_name</th>\n",
              "      <th>age</th>\n",
              "      <th>female</th>\n",
              "      <th>preTestScore</th>\n",
              "      <th>postTestScore</th>\n",
              "    </tr>\n",
              "  </thead>\n",
              "  <tbody>\n",
              "    <tr>\n",
              "      <th>0</th>\n",
              "      <td>Jason</td>\n",
              "      <td>Miller</td>\n",
              "      <td>42</td>\n",
              "      <td>0</td>\n",
              "      <td>4</td>\n",
              "      <td>25</td>\n",
              "    </tr>\n",
              "    <tr>\n",
              "      <th>1</th>\n",
              "      <td>Molly</td>\n",
              "      <td>Jacobson</td>\n",
              "      <td>52</td>\n",
              "      <td>1</td>\n",
              "      <td>24</td>\n",
              "      <td>94</td>\n",
              "    </tr>\n",
              "    <tr>\n",
              "      <th>2</th>\n",
              "      <td>Tina</td>\n",
              "      <td>Ali</td>\n",
              "      <td>36</td>\n",
              "      <td>1</td>\n",
              "      <td>31</td>\n",
              "      <td>57</td>\n",
              "    </tr>\n",
              "    <tr>\n",
              "      <th>3</th>\n",
              "      <td>Jake</td>\n",
              "      <td>Milner</td>\n",
              "      <td>24</td>\n",
              "      <td>0</td>\n",
              "      <td>2</td>\n",
              "      <td>62</td>\n",
              "    </tr>\n",
              "    <tr>\n",
              "      <th>4</th>\n",
              "      <td>Amy</td>\n",
              "      <td>Cooze</td>\n",
              "      <td>73</td>\n",
              "      <td>1</td>\n",
              "      <td>3</td>\n",
              "      <td>70</td>\n",
              "    </tr>\n",
              "  </tbody>\n",
              "</table>\n",
              "</div>\n",
              "      <button class=\"colab-df-convert\" onclick=\"convertToInteractive('df-132b5ba9-06e8-494b-8574-5cf8490e537a')\"\n",
              "              title=\"Convert this dataframe to an interactive table.\"\n",
              "              style=\"display:none;\">\n",
              "        \n",
              "  <svg xmlns=\"http://www.w3.org/2000/svg\" height=\"24px\"viewBox=\"0 0 24 24\"\n",
              "       width=\"24px\">\n",
              "    <path d=\"M0 0h24v24H0V0z\" fill=\"none\"/>\n",
              "    <path d=\"M18.56 5.44l.94 2.06.94-2.06 2.06-.94-2.06-.94-.94-2.06-.94 2.06-2.06.94zm-11 1L8.5 8.5l.94-2.06 2.06-.94-2.06-.94L8.5 2.5l-.94 2.06-2.06.94zm10 10l.94 2.06.94-2.06 2.06-.94-2.06-.94-.94-2.06-.94 2.06-2.06.94z\"/><path d=\"M17.41 7.96l-1.37-1.37c-.4-.4-.92-.59-1.43-.59-.52 0-1.04.2-1.43.59L10.3 9.45l-7.72 7.72c-.78.78-.78 2.05 0 2.83L4 21.41c.39.39.9.59 1.41.59.51 0 1.02-.2 1.41-.59l7.78-7.78 2.81-2.81c.8-.78.8-2.07 0-2.86zM5.41 20L4 18.59l7.72-7.72 1.47 1.35L5.41 20z\"/>\n",
              "  </svg>\n",
              "      </button>\n",
              "      \n",
              "  <style>\n",
              "    .colab-df-container {\n",
              "      display:flex;\n",
              "      flex-wrap:wrap;\n",
              "      gap: 12px;\n",
              "    }\n",
              "\n",
              "    .colab-df-convert {\n",
              "      background-color: #E8F0FE;\n",
              "      border: none;\n",
              "      border-radius: 50%;\n",
              "      cursor: pointer;\n",
              "      display: none;\n",
              "      fill: #1967D2;\n",
              "      height: 32px;\n",
              "      padding: 0 0 0 0;\n",
              "      width: 32px;\n",
              "    }\n",
              "\n",
              "    .colab-df-convert:hover {\n",
              "      background-color: #E2EBFA;\n",
              "      box-shadow: 0px 1px 2px rgba(60, 64, 67, 0.3), 0px 1px 3px 1px rgba(60, 64, 67, 0.15);\n",
              "      fill: #174EA6;\n",
              "    }\n",
              "\n",
              "    [theme=dark] .colab-df-convert {\n",
              "      background-color: #3B4455;\n",
              "      fill: #D2E3FC;\n",
              "    }\n",
              "\n",
              "    [theme=dark] .colab-df-convert:hover {\n",
              "      background-color: #434B5C;\n",
              "      box-shadow: 0px 1px 3px 1px rgba(0, 0, 0, 0.15);\n",
              "      filter: drop-shadow(0px 1px 2px rgba(0, 0, 0, 0.3));\n",
              "      fill: #FFFFFF;\n",
              "    }\n",
              "  </style>\n",
              "\n",
              "      <script>\n",
              "        const buttonEl =\n",
              "          document.querySelector('#df-132b5ba9-06e8-494b-8574-5cf8490e537a button.colab-df-convert');\n",
              "        buttonEl.style.display =\n",
              "          google.colab.kernel.accessAllowed ? 'block' : 'none';\n",
              "\n",
              "        async function convertToInteractive(key) {\n",
              "          const element = document.querySelector('#df-132b5ba9-06e8-494b-8574-5cf8490e537a');\n",
              "          const dataTable =\n",
              "            await google.colab.kernel.invokeFunction('convertToInteractive',\n",
              "                                                     [key], {});\n",
              "          if (!dataTable) return;\n",
              "\n",
              "          const docLinkHtml = 'Like what you see? Visit the ' +\n",
              "            '<a target=\"_blank\" href=https://colab.research.google.com/notebooks/data_table.ipynb>data table notebook</a>'\n",
              "            + ' to learn more about interactive tables.';\n",
              "          element.innerHTML = '';\n",
              "          dataTable['output_type'] = 'display_data';\n",
              "          await google.colab.output.renderOutput(dataTable, element);\n",
              "          const docLink = document.createElement('div');\n",
              "          docLink.innerHTML = docLinkHtml;\n",
              "          element.appendChild(docLink);\n",
              "        }\n",
              "      </script>\n",
              "    </div>\n",
              "  </div>\n",
              "  "
            ]
          },
          "metadata": {},
          "execution_count": 2
        }
      ]
    },
    {
      "cell_type": "markdown",
      "metadata": {
        "id": "x5IfQ3a0Tyaf"
      },
      "source": [
        "### Step 3. Create a Scatterplot of preTestScore and postTestScore, with the size of each point determined by age\n",
        "#### Hint: Don't forget to place the labels"
      ]
    },
    {
      "cell_type": "code",
      "metadata": {
        "id": "Z2qLovwiTyai",
        "colab": {
          "base_uri": "https://localhost:8080/",
          "height": 314
        },
        "outputId": "270eb729-dd70-4de5-fba2-0f0dc734f656"
      },
      "source": [
        "plt.scatter(df.preTestScore, df.postTestScore, s=df.age)\n",
        "\n",
        "plt.title(\"Scatterplot of preTestScore and postTestScore\")\n",
        "plt.xlabel('preTestScore')\n",
        "plt.ylabel('postTestScore')"
      ],
      "execution_count": 5,
      "outputs": [
        {
          "output_type": "execute_result",
          "data": {
            "text/plain": [
              "Text(0, 0.5, 'postTestScore')"
            ]
          },
          "metadata": {},
          "execution_count": 5
        },
        {
          "output_type": "display_data",
          "data": {
            "text/plain": [
              "<Figure size 432x288 with 1 Axes>"
            ],
            "image/png": "[encoded data removed]"
          },
          "metadata": {
            "needs_background": "light"
          }
        }
      ]
    },
    {
      "cell_type": "markdown",
      "metadata": {
        "id": "fuJ6Ga8bTyak"
      },
      "source": [
        "### Step 4. Create a Scatterplot of preTestScore and postTestScore.\n",
        "### This time the size should be 4.5 times the postTestScore and the color determined by sex"
      ]
    },
    {
      "cell_type": "code",
      "metadata": {
        "id": "BdO_WaSaTyam",
        "colab": {
          "base_uri": "https://localhost:8080/",
          "height": 314
        },
        "outputId": "79a7571c-a57f-4e99-8899-2a2094215b2d"
      },
      "source": [
        "plt.scatter(df.preTestScore, df.postTestScore, s=df.postTestScore*4.5, c=df.female)\n",
        "\n",
        "plt.title(\"Scatterplot of preTestScore and postTestScore\")\n",
        "plt.xlabel('preTestScore')\n",
        "plt.ylabel('postTestScore')"
      ],
      "execution_count": 6,
      "outputs": [
        {
          "output_type": "execute_result",
          "data": {
            "text/plain": [
              "Text(0, 0.5, 'postTestScore')"
            ]
          },
          "metadata": {},
          "execution_count": 6
        },
        {
          "output_type": "display_data",
          "data": {
            "text/plain": [
              "<Figure size 432x288 with 1 Axes>"
            ],
            "image/png": "[encoded data removed]"
          },
          "metadata": {
            "needs_background": "light"
          }
        }
      ]
    },
    {
      "cell_type": "markdown",
      "metadata": {
        "id": "C3MUp8OkTyao"
      },
      "source": [
        "### BONUS: Create your own question and answer it."
      ]
    },
    {
      "cell_type": "code",
      "metadata": {
        "collapsed": true,
        "id": "z_8PpgA9Tyap",
        "colab": {
          "base_uri": "https://localhost:8080/",
          "height": 314
        },
        "outputId": "b5697de2-6291-40d5-ef5b-0765fb3c7471"
      },
      "source": [
        "plt.scatter(df.age, df.postTestScore, s=df.postTestScore*5)\n",
        "\n",
        "plt.title(\"Scatterplot of preTestScore and postTestScore\")\n",
        "plt.xlabel('age')\n",
        "plt.ylabel('postTestScore')"
      ],
      "execution_count": 21,
      "outputs": [
        {
          "output_type": "execute_result",
          "data": {
            "text/plain": [
              "Text(0, 0.5, 'postTestScore')"
            ]
          },
          "metadata": {},
          "execution_count": 21
        },
        {
          "output_type": "display_data",
          "data": {
            "text/plain": [
              "<Figure size 432x288 with 1 Axes>"
            ],
            "image/png": "[encoded data removed]"
          },
          "metadata": {
            "needs_background": "light"
          }
        }
      ]
    },
    {
      "cell_type": "code",
      "source": [
        "boxplot = plt.figure()\n",
        "axes1 = boxplot.add_subplot(1,1,1)\n",
        "\n",
        "axes1.boxplot([df[df['female'] == 1]['preTestScore'],\n",
        "              df[df['female'] == 0]['preTestScore']],\n",
        "              labels=['Female', 'Male'])\n",
        "\n",
        "axes1.set_xlabel('Sex')\n",
        "axes1.set_ylabel('preTestScore')\n",
        "axes1.set_title('Boxplot of preTestScore by Sex')"
      ],
      "metadata": {
        "colab": {
          "base_uri": "https://localhost:8080/",
          "height": 314
        },
        "id": "Kqw_M6XYHKLN",
        "outputId": "8da62409-a1cc-4f93-9518-96d0ff63b4c3"
      },
      "execution_count": 8,
      "outputs": [
        {
          "output_type": "execute_result",
          "data": {
            "text/plain": [
              "Text(0.5, 1.0, 'Boxplot of preTestScore by Sex')"
            ]
          },
          "metadata": {},
          "execution_count": 8
        },
        {
          "output_type": "display_data",
          "data": {
            "text/plain": [
              "<Figure size 432x288 with 1 Axes>"
            ],
            "image/png": "[encoded data removed]"
          },
          "metadata": {
            "needs_background": "light"
          }
        }
      ]
    },
    {
      "cell_type": "code",
      "source": [
        "boxplot = plt.figure()\n",
        "axes1 = boxplot.add_subplot(1,1,1)\n",
        "\n",
        "axes1.boxplot([df[df['female'] == 1]['postTestScore'],\n",
        "              df[df['female'] == 0]['postTestScore']],\n",
        "              labels=['Female', 'Male'])\n",
        "\n",
        "axes1.set_xlabel('Sex')\n",
        "axes1.set_ylabel('postTestScore')\n",
        "axes1.set_title('Boxplot of postTestScore by Sex')"
      ],
      "metadata": {
        "colab": {
          "base_uri": "https://localhost:8080/",
          "height": 314
        },
        "id": "jNZJFWyKHKxL",
        "outputId": "42bbf76b-bb76-4dbf-9b0e-d03ff8ad29d4"
      },
      "execution_count": 9,
      "outputs": [
        {
          "output_type": "execute_result",
          "data": {
            "text/plain": [
              "Text(0.5, 1.0, 'Boxplot of postTestScore by Sex')"
            ]
          },
          "metadata": {},
          "execution_count": 9
        },
        {
          "output_type": "display_data",
          "data": {
            "text/plain": [
              "<Figure size 432x288 with 1 Axes>"
            ],
            "image/png": "[encoded data removed]"
          },
          "metadata": {
            "needs_background": "light"
          }
        }
      ]
    },
    {
      "cell_type": "code",
      "source": [
        "# score 향상을 막대그래프로 나타내기\n",
        "import seaborn as sns\n",
        "\n",
        "df['score'] = df.postTestScore - df.preTestScore\n",
        "ax = plt.subplots()\n",
        "ax = sns.barplot(x='last_name', y='score', data=df)"
      ],
      "metadata": {
        "colab": {
          "base_uri": "https://localhost:8080/",
          "height": 280
        },
        "id": "H-3um1jpHN_D",
        "outputId": "b81eed9f-c373-4499-e38a-3c30e615ef9e"
      },
      "execution_count": 19,
      "outputs": [
        {
          "output_type": "display_data",
          "data": {
            "text/plain": [
              "<Figure size 432x288 with 1 Axes>"
            ],
            "image/png": "[encoded data removed]"
          },
          "metadata": {
            "needs_background": "light"
          }
        }
      ]
    },
    {
      "cell_type": "code",
      "source": [
        "# 나이에 따른 점수 차\n",
        "a = df.postTestScore - df.preTestScore\n",
        "plt.scatter(df.age, a)\n",
        "\n",
        "plt.xlabel('age')\n",
        "plt.ylabel('difference')"
      ],
      "metadata": {
        "colab": {
          "base_uri": "https://localhost:8080/",
          "height": 298
        },
        "id": "sbDlPFokK46o",
        "outputId": "7ebf0e72-8c51-44ce-dbf4-115ec710c3bf"
      },
      "execution_count": 22,
      "outputs": [
        {
          "output_type": "execute_result",
          "data": {
            "text/plain": [
              "Text(0, 0.5, 'difference')"
            ]
          },
          "metadata": {},
          "execution_count": 22
        },
        {
          "output_type": "display_data",
          "data": {
            "text/plain": [
              "<Figure size 432x288 with 1 Axes>"
            ],
            "image/png": "[encoded data removed]"
          },
          "metadata": {
            "needs_background": "light"
          }
        }
      ]
    }
  ]
}
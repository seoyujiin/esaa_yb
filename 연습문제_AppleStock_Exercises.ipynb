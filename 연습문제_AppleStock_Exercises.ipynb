{
  "nbformat": 4,
  "nbformat_minor": 0,
  "metadata": {
    "anaconda-cloud": {},
    "kernelspec": {
      "display_name": "Python [default]",
      "language": "python",
      "name": "python2"
    },
    "language_info": {
      "codemirror_mode": {
        "name": "ipython",
        "version": 2
      },
      "file_extension": ".py",
      "mimetype": "text/x-python",
      "name": "python",
      "nbconvert_exporter": "python",
      "pygments_lexer": "ipython2",
      "version": "2.7.12"
    },
    "colab": {
      "provenance": [],
      "include_colab_link": true
    }
  },
  "cells": [
    {
      "cell_type": "markdown",
      "metadata": {
        "id": "view-in-github",
        "colab_type": "text"
      },
      "source": [
        "<a href=\"https://colab.research.google.com/github/seoyujiin/esaa_yb/blob/main/%EC%97%B0%EC%8A%B5%EB%AC%B8%EC%A0%9C_AppleStock_Exercises.ipynb\" target=\"_parent\"><img src=\"https://colab.research.google.com/assets/colab-badge.svg\" alt=\"Open In Colab\"/></a>"
      ]
    },
    {
      "cell_type": "markdown",
      "metadata": {
        "id": "on6xgUECVXIz"
      },
      "source": [
        "# Apple Stock"
      ]
    },
    {
      "cell_type": "markdown",
      "metadata": {
        "id": "yRb05F3RVXJI"
      },
      "source": [
        "### Introduction:\n",
        "\n",
        "We are going to use Apple's stock price.\n",
        "\n",
        "\n",
        "### Step 1. Import the necessary libraries"
      ]
    },
    {
      "cell_type": "code",
      "metadata": {
        "id": "4g8N0RkRVXJN"
      },
      "source": [
        "import pandas as pd\n",
        "import numpy as np\n",
        "\n",
        "# visualization\n",
        "import matplotlib.pyplot as plt\n",
        "\n",
        "%matplotlib inline"
      ],
      "execution_count": 20,
      "outputs": []
    },
    {
      "cell_type": "markdown",
      "metadata": {
        "id": "PadQE1mnVXJS"
      },
      "source": [
        "### Step 2. Import the dataset from this [address](https://raw.githubusercontent.com/guipsamora/pandas_exercises/master/09_Time_Series/Apple_Stock/appl_1980_2014.csv)"
      ]
    },
    {
      "cell_type": "code",
      "metadata": {
        "collapsed": true,
        "id": "jFE0126tVXJU"
      },
      "source": [
        "data = pd.read_csv('https://raw.githubusercontent.com/guipsamora/pandas_exercises/master/09_Time_Series/Apple_Stock/appl_1980_2014.csv',sep=',')"
      ],
      "execution_count": 40,
      "outputs": []
    },
    {
      "cell_type": "markdown",
      "metadata": {
        "id": "0szUfJRXVXJY"
      },
      "source": [
        "### Step 3. Assign it to a variable apple"
      ]
    },
    {
      "cell_type": "code",
      "metadata": {
        "id": "-OGkJEZNVXJa",
        "colab": {
          "base_uri": "https://localhost:8080/",
          "height": 206
        },
        "outputId": "c2555a4b-6914-471b-c3fe-cf520bc61c51"
      },
      "source": [
        "apple = data\n",
        "\n",
        "apple.head()\n",
        "\n",
        "# Open: 시가\n",
        "# High: 고가\n",
        "# Low: 저가\n",
        "# Close: 종가\n",
        "# Volume: 주식 거래량"
      ],
      "execution_count": 41,
      "outputs": [
        {
          "output_type": "execute_result",
          "data": {
            "text/plain": [
              "         Date   Open   High    Low  Close    Volume  Adj Close\n",
              "0  2014-07-08  96.27  96.80  93.92  95.35  65130000      95.35\n",
              "1  2014-07-07  94.14  95.99  94.10  95.97  56305400      95.97\n",
              "2  2014-07-03  93.67  94.10  93.20  94.03  22891800      94.03\n",
              "3  2014-07-02  93.87  94.06  93.09  93.48  28420900      93.48\n",
              "4  2014-07-01  93.52  94.07  93.13  93.52  38170200      93.52"
            ],
            "text/html": [
              "\n",
              "  <div id=\"df-0b4956a2-ff8f-4b95-9f4c-bb77fa446bd7\">\n",
              "    <div class=\"colab-df-container\">\n",
              "      <div>\n",
              "<style scoped>\n",
              "    .dataframe tbody tr th:only-of-type {\n",
              "        vertical-align: middle;\n",
              "    }\n",
              "\n",
              "    .dataframe tbody tr th {\n",
              "        vertical-align: top;\n",
              "    }\n",
              "\n",
              "    .dataframe thead th {\n",
              "        text-align: right;\n",
              "    }\n",
              "</style>\n",
              "<table border=\"1\" class=\"dataframe\">\n",
              "  <thead>\n",
              "    <tr style=\"text-align: right;\">\n",
              "      <th></th>\n",
              "      <th>Date</th>\n",
              "      <th>Open</th>\n",
              "      <th>High</th>\n",
              "      <th>Low</th>\n",
              "      <th>Close</th>\n",
              "      <th>Volume</th>\n",
              "      <th>Adj Close</th>\n",
              "    </tr>\n",
              "  </thead>\n",
              "  <tbody>\n",
              "    <tr>\n",
              "      <th>0</th>\n",
              "      <td>2014-07-08</td>\n",
              "      <td>96.27</td>\n",
              "      <td>96.80</td>\n",
              "      <td>93.92</td>\n",
              "      <td>95.35</td>\n",
              "      <td>65130000</td>\n",
              "      <td>95.35</td>\n",
              "    </tr>\n",
              "    <tr>\n",
              "      <th>1</th>\n",
              "      <td>2014-07-07</td>\n",
              "      <td>94.14</td>\n",
              "      <td>95.99</td>\n",
              "      <td>94.10</td>\n",
              "      <td>95.97</td>\n",
              "      <td>56305400</td>\n",
              "      <td>95.97</td>\n",
              "    </tr>\n",
              "    <tr>\n",
              "      <th>2</th>\n",
              "      <td>2014-07-03</td>\n",
              "      <td>93.67</td>\n",
              "      <td>94.10</td>\n",
              "      <td>93.20</td>\n",
              "      <td>94.03</td>\n",
              "      <td>22891800</td>\n",
              "      <td>94.03</td>\n",
              "    </tr>\n",
              "    <tr>\n",
              "      <th>3</th>\n",
              "      <td>2014-07-02</td>\n",
              "      <td>93.87</td>\n",
              "      <td>94.06</td>\n",
              "      <td>93.09</td>\n",
              "      <td>93.48</td>\n",
              "      <td>28420900</td>\n",
              "      <td>93.48</td>\n",
              "    </tr>\n",
              "    <tr>\n",
              "      <th>4</th>\n",
              "      <td>2014-07-01</td>\n",
              "      <td>93.52</td>\n",
              "      <td>94.07</td>\n",
              "      <td>93.13</td>\n",
              "      <td>93.52</td>\n",
              "      <td>38170200</td>\n",
              "      <td>93.52</td>\n",
              "    </tr>\n",
              "  </tbody>\n",
              "</table>\n",
              "</div>\n",
              "      <button class=\"colab-df-convert\" onclick=\"convertToInteractive('df-0b4956a2-ff8f-4b95-9f4c-bb77fa446bd7')\"\n",
              "              title=\"Convert this dataframe to an interactive table.\"\n",
              "              style=\"display:none;\">\n",
              "        \n",
              "  <svg xmlns=\"http://www.w3.org/2000/svg\" height=\"24px\"viewBox=\"0 0 24 24\"\n",
              "       width=\"24px\">\n",
              "    <path d=\"M0 0h24v24H0V0z\" fill=\"none\"/>\n",
              "    <path d=\"M18.56 5.44l.94 2.06.94-2.06 2.06-.94-2.06-.94-.94-2.06-.94 2.06-2.06.94zm-11 1L8.5 8.5l.94-2.06 2.06-.94-2.06-.94L8.5 2.5l-.94 2.06-2.06.94zm10 10l.94 2.06.94-2.06 2.06-.94-2.06-.94-.94-2.06-.94 2.06-2.06.94z\"/><path d=\"M17.41 7.96l-1.37-1.37c-.4-.4-.92-.59-1.43-.59-.52 0-1.04.2-1.43.59L10.3 9.45l-7.72 7.72c-.78.78-.78 2.05 0 2.83L4 21.41c.39.39.9.59 1.41.59.51 0 1.02-.2 1.41-.59l7.78-7.78 2.81-2.81c.8-.78.8-2.07 0-2.86zM5.41 20L4 18.59l7.72-7.72 1.47 1.35L5.41 20z\"/>\n",
              "  </svg>\n",
              "      </button>\n",
              "      \n",
              "  <style>\n",
              "    .colab-df-container {\n",
              "      display:flex;\n",
              "      flex-wrap:wrap;\n",
              "      gap: 12px;\n",
              "    }\n",
              "\n",
              "    .colab-df-convert {\n",
              "      background-color: #E8F0FE;\n",
              "      border: none;\n",
              "      border-radius: 50%;\n",
              "      cursor: pointer;\n",
              "      display: none;\n",
              "      fill: #1967D2;\n",
              "      height: 32px;\n",
              "      padding: 0 0 0 0;\n",
              "      width: 32px;\n",
              "    }\n",
              "\n",
              "    .colab-df-convert:hover {\n",
              "      background-color: #E2EBFA;\n",
              "      box-shadow: 0px 1px 2px rgba(60, 64, 67, 0.3), 0px 1px 3px 1px rgba(60, 64, 67, 0.15);\n",
              "      fill: #174EA6;\n",
              "    }\n",
              "\n",
              "    [theme=dark] .colab-df-convert {\n",
              "      background-color: #3B4455;\n",
              "      fill: #D2E3FC;\n",
              "    }\n",
              "\n",
              "    [theme=dark] .colab-df-convert:hover {\n",
              "      background-color: #434B5C;\n",
              "      box-shadow: 0px 1px 3px 1px rgba(0, 0, 0, 0.15);\n",
              "      filter: drop-shadow(0px 1px 2px rgba(0, 0, 0, 0.3));\n",
              "      fill: #FFFFFF;\n",
              "    }\n",
              "  </style>\n",
              "\n",
              "      <script>\n",
              "        const buttonEl =\n",
              "          document.querySelector('#df-0b4956a2-ff8f-4b95-9f4c-bb77fa446bd7 button.colab-df-convert');\n",
              "        buttonEl.style.display =\n",
              "          google.colab.kernel.accessAllowed ? 'block' : 'none';\n",
              "\n",
              "        async function convertToInteractive(key) {\n",
              "          const element = document.querySelector('#df-0b4956a2-ff8f-4b95-9f4c-bb77fa446bd7');\n",
              "          const dataTable =\n",
              "            await google.colab.kernel.invokeFunction('convertToInteractive',\n",
              "                                                     [key], {});\n",
              "          if (!dataTable) return;\n",
              "\n",
              "          const docLinkHtml = 'Like what you see? Visit the ' +\n",
              "            '<a target=\"_blank\" href=https://colab.research.google.com/notebooks/data_table.ipynb>data table notebook</a>'\n",
              "            + ' to learn more about interactive tables.';\n",
              "          element.innerHTML = '';\n",
              "          dataTable['output_type'] = 'display_data';\n",
              "          await google.colab.output.renderOutput(dataTable, element);\n",
              "          const docLink = document.createElement('div');\n",
              "          docLink.innerHTML = docLinkHtml;\n",
              "          element.appendChild(docLink);\n",
              "        }\n",
              "      </script>\n",
              "    </div>\n",
              "  </div>\n",
              "  "
            ]
          },
          "metadata": {},
          "execution_count": 41
        }
      ]
    },
    {
      "cell_type": "markdown",
      "metadata": {
        "id": "TBxUymvFVXJc"
      },
      "source": [
        "### Step 4.  Check out the type of the columns"
      ]
    },
    {
      "cell_type": "code",
      "metadata": {
        "id": "hh_Qct_DVXJg",
        "colab": {
          "base_uri": "https://localhost:8080/"
        },
        "outputId": "461bdcbb-1433-4671-a1c5-c317cee5b61b"
      },
      "source": [
        "apple.dtypes"
      ],
      "execution_count": 23,
      "outputs": [
        {
          "output_type": "execute_result",
          "data": {
            "text/plain": [
              "Date          object\n",
              "Open         float64\n",
              "High         float64\n",
              "Low          float64\n",
              "Close        float64\n",
              "Volume         int64\n",
              "Adj Close    float64\n",
              "dtype: object"
            ]
          },
          "metadata": {},
          "execution_count": 23
        }
      ]
    },
    {
      "cell_type": "markdown",
      "metadata": {
        "id": "gSo835mZVXJj"
      },
      "source": [
        "### Step 5. Transform the Date column as a datetime type"
      ]
    },
    {
      "cell_type": "code",
      "metadata": {
        "id": "TZHt_GTCVXJm",
        "colab": {
          "base_uri": "https://localhost:8080/"
        },
        "outputId": "b53cc8e3-7ded-4413-a79b-5341629fdb6a"
      },
      "source": [
        "apple.Date = pd.to_datetime(apple.Date)  # 인수를 날짜/시간으로 변환\n",
        "\n",
        "apple.Date.head()"
      ],
      "execution_count": 42,
      "outputs": [
        {
          "output_type": "execute_result",
          "data": {
            "text/plain": [
              "0   2014-07-08\n",
              "1   2014-07-07\n",
              "2   2014-07-03\n",
              "3   2014-07-02\n",
              "4   2014-07-01\n",
              "Name: Date, dtype: datetime64[ns]"
            ]
          },
          "metadata": {},
          "execution_count": 42
        }
      ]
    },
    {
      "cell_type": "markdown",
      "metadata": {
        "id": "KnpuOPx1VXJn"
      },
      "source": [
        "### Step 6.  Set the date as the index"
      ]
    },
    {
      "cell_type": "code",
      "metadata": {
        "id": "0w3vVnNTVXJp",
        "colab": {
          "base_uri": "https://localhost:8080/",
          "height": 238
        },
        "outputId": "3cbd48ce-d20a-4e70-b810-ab3658575f8f"
      },
      "source": [
        "apple = apple.set_index('Date')  # set_index: 기존 열을 사용하여 DataFrame 인덱스를 설정\n",
        "\n",
        "apple.head()"
      ],
      "execution_count": 45,
      "outputs": [
        {
          "output_type": "execute_result",
          "data": {
            "text/plain": [
              "             Open   High    Low  Close    Volume  Adj Close\n",
              "Date                                                       \n",
              "2014-07-08  96.27  96.80  93.92  95.35  65130000      95.35\n",
              "2014-07-07  94.14  95.99  94.10  95.97  56305400      95.97\n",
              "2014-07-03  93.67  94.10  93.20  94.03  22891800      94.03\n",
              "2014-07-02  93.87  94.06  93.09  93.48  28420900      93.48\n",
              "2014-07-01  93.52  94.07  93.13  93.52  38170200      93.52"
            ],
            "text/html": [
              "\n",
              "  <div id=\"df-93a58389-6e3f-42a6-a5de-285a8c660210\">\n",
              "    <div class=\"colab-df-container\">\n",
              "      <div>\n",
              "<style scoped>\n",
              "    .dataframe tbody tr th:only-of-type {\n",
              "        vertical-align: middle;\n",
              "    }\n",
              "\n",
              "    .dataframe tbody tr th {\n",
              "        vertical-align: top;\n",
              "    }\n",
              "\n",
              "    .dataframe thead th {\n",
              "        text-align: right;\n",
              "    }\n",
              "</style>\n",
              "<table border=\"1\" class=\"dataframe\">\n",
              "  <thead>\n",
              "    <tr style=\"text-align: right;\">\n",
              "      <th></th>\n",
              "      <th>Open</th>\n",
              "      <th>High</th>\n",
              "      <th>Low</th>\n",
              "      <th>Close</th>\n",
              "      <th>Volume</th>\n",
              "      <th>Adj Close</th>\n",
              "    </tr>\n",
              "    <tr>\n",
              "      <th>Date</th>\n",
              "      <th></th>\n",
              "      <th></th>\n",
              "      <th></th>\n",
              "      <th></th>\n",
              "      <th></th>\n",
              "      <th></th>\n",
              "    </tr>\n",
              "  </thead>\n",
              "  <tbody>\n",
              "    <tr>\n",
              "      <th>2014-07-08</th>\n",
              "      <td>96.27</td>\n",
              "      <td>96.80</td>\n",
              "      <td>93.92</td>\n",
              "      <td>95.35</td>\n",
              "      <td>65130000</td>\n",
              "      <td>95.35</td>\n",
              "    </tr>\n",
              "    <tr>\n",
              "      <th>2014-07-07</th>\n",
              "      <td>94.14</td>\n",
              "      <td>95.99</td>\n",
              "      <td>94.10</td>\n",
              "      <td>95.97</td>\n",
              "      <td>56305400</td>\n",
              "      <td>95.97</td>\n",
              "    </tr>\n",
              "    <tr>\n",
              "      <th>2014-07-03</th>\n",
              "      <td>93.67</td>\n",
              "      <td>94.10</td>\n",
              "      <td>93.20</td>\n",
              "      <td>94.03</td>\n",
              "      <td>22891800</td>\n",
              "      <td>94.03</td>\n",
              "    </tr>\n",
              "    <tr>\n",
              "      <th>2014-07-02</th>\n",
              "      <td>93.87</td>\n",
              "      <td>94.06</td>\n",
              "      <td>93.09</td>\n",
              "      <td>93.48</td>\n",
              "      <td>28420900</td>\n",
              "      <td>93.48</td>\n",
              "    </tr>\n",
              "    <tr>\n",
              "      <th>2014-07-01</th>\n",
              "      <td>93.52</td>\n",
              "      <td>94.07</td>\n",
              "      <td>93.13</td>\n",
              "      <td>93.52</td>\n",
              "      <td>38170200</td>\n",
              "      <td>93.52</td>\n",
              "    </tr>\n",
              "  </tbody>\n",
              "</table>\n",
              "</div>\n",
              "      <button class=\"colab-df-convert\" onclick=\"convertToInteractive('df-93a58389-6e3f-42a6-a5de-285a8c660210')\"\n",
              "              title=\"Convert this dataframe to an interactive table.\"\n",
              "              style=\"display:none;\">\n",
              "        \n",
              "  <svg xmlns=\"http://www.w3.org/2000/svg\" height=\"24px\"viewBox=\"0 0 24 24\"\n",
              "       width=\"24px\">\n",
              "    <path d=\"M0 0h24v24H0V0z\" fill=\"none\"/>\n",
              "    <path d=\"M18.56 5.44l.94 2.06.94-2.06 2.06-.94-2.06-.94-.94-2.06-.94 2.06-2.06.94zm-11 1L8.5 8.5l.94-2.06 2.06-.94-2.06-.94L8.5 2.5l-.94 2.06-2.06.94zm10 10l.94 2.06.94-2.06 2.06-.94-2.06-.94-.94-2.06-.94 2.06-2.06.94z\"/><path d=\"M17.41 7.96l-1.37-1.37c-.4-.4-.92-.59-1.43-.59-.52 0-1.04.2-1.43.59L10.3 9.45l-7.72 7.72c-.78.78-.78 2.05 0 2.83L4 21.41c.39.39.9.59 1.41.59.51 0 1.02-.2 1.41-.59l7.78-7.78 2.81-2.81c.8-.78.8-2.07 0-2.86zM5.41 20L4 18.59l7.72-7.72 1.47 1.35L5.41 20z\"/>\n",
              "  </svg>\n",
              "      </button>\n",
              "      \n",
              "  <style>\n",
              "    .colab-df-container {\n",
              "      display:flex;\n",
              "      flex-wrap:wrap;\n",
              "      gap: 12px;\n",
              "    }\n",
              "\n",
              "    .colab-df-convert {\n",
              "      background-color: #E8F0FE;\n",
              "      border: none;\n",
              "      border-radius: 50%;\n",
              "      cursor: pointer;\n",
              "      display: none;\n",
              "      fill: #1967D2;\n",
              "      height: 32px;\n",
              "      padding: 0 0 0 0;\n",
              "      width: 32px;\n",
              "    }\n",
              "\n",
              "    .colab-df-convert:hover {\n",
              "      background-color: #E2EBFA;\n",
              "      box-shadow: 0px 1px 2px rgba(60, 64, 67, 0.3), 0px 1px 3px 1px rgba(60, 64, 67, 0.15);\n",
              "      fill: #174EA6;\n",
              "    }\n",
              "\n",
              "    [theme=dark] .colab-df-convert {\n",
              "      background-color: #3B4455;\n",
              "      fill: #D2E3FC;\n",
              "    }\n",
              "\n",
              "    [theme=dark] .colab-df-convert:hover {\n",
              "      background-color: #434B5C;\n",
              "      box-shadow: 0px 1px 3px 1px rgba(0, 0, 0, 0.15);\n",
              "      filter: drop-shadow(0px 1px 2px rgba(0, 0, 0, 0.3));\n",
              "      fill: #FFFFFF;\n",
              "    }\n",
              "  </style>\n",
              "\n",
              "      <script>\n",
              "        const buttonEl =\n",
              "          document.querySelector('#df-93a58389-6e3f-42a6-a5de-285a8c660210 button.colab-df-convert');\n",
              "        buttonEl.style.display =\n",
              "          google.colab.kernel.accessAllowed ? 'block' : 'none';\n",
              "\n",
              "        async function convertToInteractive(key) {\n",
              "          const element = document.querySelector('#df-93a58389-6e3f-42a6-a5de-285a8c660210');\n",
              "          const dataTable =\n",
              "            await google.colab.kernel.invokeFunction('convertToInteractive',\n",
              "                                                     [key], {});\n",
              "          if (!dataTable) return;\n",
              "\n",
              "          const docLinkHtml = 'Like what you see? Visit the ' +\n",
              "            '<a target=\"_blank\" href=https://colab.research.google.com/notebooks/data_table.ipynb>data table notebook</a>'\n",
              "            + ' to learn more about interactive tables.';\n",
              "          element.innerHTML = '';\n",
              "          dataTable['output_type'] = 'display_data';\n",
              "          await google.colab.output.renderOutput(dataTable, element);\n",
              "          const docLink = document.createElement('div');\n",
              "          docLink.innerHTML = docLinkHtml;\n",
              "          element.appendChild(docLink);\n",
              "        }\n",
              "      </script>\n",
              "    </div>\n",
              "  </div>\n",
              "  "
            ]
          },
          "metadata": {},
          "execution_count": 45
        }
      ]
    },
    {
      "cell_type": "markdown",
      "metadata": {
        "id": "gTAynxAuVXJq"
      },
      "source": [
        "### Step 7.  Is there any duplicate dates?"
      ]
    },
    {
      "cell_type": "code",
      "metadata": {
        "id": "X7CMs_b0VXJs",
        "colab": {
          "base_uri": "https://localhost:8080/"
        },
        "outputId": "7e2a6e7a-4ed8-4471-cb80-7074c00506c4"
      },
      "source": [
        "apple.index.is_unique  # is_unique: 개체의 값이 고유하면 부울 반환"
      ],
      "execution_count": 43,
      "outputs": [
        {
          "output_type": "execute_result",
          "data": {
            "text/plain": [
              "True"
            ]
          },
          "metadata": {},
          "execution_count": 43
        }
      ]
    },
    {
      "cell_type": "code",
      "source": [
        "# another sol\n",
        "# apple = data\n",
        "# apple.Date = pd.to_datetime(apple.Date) \n",
        "\n",
        "# x = apple[apple.duplicated(\"Date\")]\n",
        "# if len(x) != 0:\n",
        "#     print(\"Yes there are duplicates in date column\")\n",
        "# else:\n",
        "#     print(\"No there are no duplicates in date column\")"
      ],
      "metadata": {
        "colab": {
          "base_uri": "https://localhost:8080/"
        },
        "id": "COqPPamXIRJ5",
        "outputId": "8836bf37-2ad9-4962-aeba-592a9e4541fe"
      },
      "execution_count": 49,
      "outputs": [
        {
          "output_type": "stream",
          "name": "stdout",
          "text": [
            "No there are no duplicates in date column\n"
          ]
        }
      ]
    },
    {
      "cell_type": "markdown",
      "metadata": {
        "id": "hwzw_ul_VXJt"
      },
      "source": [
        "### Step 8.  Ops...it seems the index is from the most recent date. Make the first entry the oldest date."
      ]
    },
    {
      "cell_type": "code",
      "metadata": {
        "id": "4-JjpkhjVXJv",
        "colab": {
          "base_uri": "https://localhost:8080/",
          "height": 238
        },
        "outputId": "c87ad5ce-1669-469d-dd69-7b0033a72609"
      },
      "source": [
        "apple.sort_index(ascending = True).head()  # sort_index: 축을 따라 label별로 개체 정렬"
      ],
      "execution_count": 27,
      "outputs": [
        {
          "output_type": "execute_result",
          "data": {
            "text/plain": [
              "             Open   High    Low  Close     Volume  Adj Close\n",
              "Date                                                        \n",
              "1980-12-12  28.75  28.87  28.75  28.75  117258400       0.45\n",
              "1980-12-15  27.38  27.38  27.25  27.25   43971200       0.42\n",
              "1980-12-16  25.37  25.37  25.25  25.25   26432000       0.39\n",
              "1980-12-17  25.87  26.00  25.87  25.87   21610400       0.40\n",
              "1980-12-18  26.63  26.75  26.63  26.63   18362400       0.41"
            ],
            "text/html": [
              "\n",
              "  <div id=\"df-735cbf0d-9f7d-4a05-8fa1-1d45fa6549e8\">\n",
              "    <div class=\"colab-df-container\">\n",
              "      <div>\n",
              "<style scoped>\n",
              "    .dataframe tbody tr th:only-of-type {\n",
              "        vertical-align: middle;\n",
              "    }\n",
              "\n",
              "    .dataframe tbody tr th {\n",
              "        vertical-align: top;\n",
              "    }\n",
              "\n",
              "    .dataframe thead th {\n",
              "        text-align: right;\n",
              "    }\n",
              "</style>\n",
              "<table border=\"1\" class=\"dataframe\">\n",
              "  <thead>\n",
              "    <tr style=\"text-align: right;\">\n",
              "      <th></th>\n",
              "      <th>Open</th>\n",
              "      <th>High</th>\n",
              "      <th>Low</th>\n",
              "      <th>Close</th>\n",
              "      <th>Volume</th>\n",
              "      <th>Adj Close</th>\n",
              "    </tr>\n",
              "    <tr>\n",
              "      <th>Date</th>\n",
              "      <th></th>\n",
              "      <th></th>\n",
              "      <th></th>\n",
              "      <th></th>\n",
              "      <th></th>\n",
              "      <th></th>\n",
              "    </tr>\n",
              "  </thead>\n",
              "  <tbody>\n",
              "    <tr>\n",
              "      <th>1980-12-12</th>\n",
              "      <td>28.75</td>\n",
              "      <td>28.87</td>\n",
              "      <td>28.75</td>\n",
              "      <td>28.75</td>\n",
              "      <td>117258400</td>\n",
              "      <td>0.45</td>\n",
              "    </tr>\n",
              "    <tr>\n",
              "      <th>1980-12-15</th>\n",
              "      <td>27.38</td>\n",
              "      <td>27.38</td>\n",
              "      <td>27.25</td>\n",
              "      <td>27.25</td>\n",
              "      <td>43971200</td>\n",
              "      <td>0.42</td>\n",
              "    </tr>\n",
              "    <tr>\n",
              "      <th>1980-12-16</th>\n",
              "      <td>25.37</td>\n",
              "      <td>25.37</td>\n",
              "      <td>25.25</td>\n",
              "      <td>25.25</td>\n",
              "      <td>26432000</td>\n",
              "      <td>0.39</td>\n",
              "    </tr>\n",
              "    <tr>\n",
              "      <th>1980-12-17</th>\n",
              "      <td>25.87</td>\n",
              "      <td>26.00</td>\n",
              "      <td>25.87</td>\n",
              "      <td>25.87</td>\n",
              "      <td>21610400</td>\n",
              "      <td>0.40</td>\n",
              "    </tr>\n",
              "    <tr>\n",
              "      <th>1980-12-18</th>\n",
              "      <td>26.63</td>\n",
              "      <td>26.75</td>\n",
              "      <td>26.63</td>\n",
              "      <td>26.63</td>\n",
              "      <td>18362400</td>\n",
              "      <td>0.41</td>\n",
              "    </tr>\n",
              "  </tbody>\n",
              "</table>\n",
              "</div>\n",
              "      <button class=\"colab-df-convert\" onclick=\"convertToInteractive('df-735cbf0d-9f7d-4a05-8fa1-1d45fa6549e8')\"\n",
              "              title=\"Convert this dataframe to an interactive table.\"\n",
              "              style=\"display:none;\">\n",
              "        \n",
              "  <svg xmlns=\"http://www.w3.org/2000/svg\" height=\"24px\"viewBox=\"0 0 24 24\"\n",
              "       width=\"24px\">\n",
              "    <path d=\"M0 0h24v24H0V0z\" fill=\"none\"/>\n",
              "    <path d=\"M18.56 5.44l.94 2.06.94-2.06 2.06-.94-2.06-.94-.94-2.06-.94 2.06-2.06.94zm-11 1L8.5 8.5l.94-2.06 2.06-.94-2.06-.94L8.5 2.5l-.94 2.06-2.06.94zm10 10l.94 2.06.94-2.06 2.06-.94-2.06-.94-.94-2.06-.94 2.06-2.06.94z\"/><path d=\"M17.41 7.96l-1.37-1.37c-.4-.4-.92-.59-1.43-.59-.52 0-1.04.2-1.43.59L10.3 9.45l-7.72 7.72c-.78.78-.78 2.05 0 2.83L4 21.41c.39.39.9.59 1.41.59.51 0 1.02-.2 1.41-.59l7.78-7.78 2.81-2.81c.8-.78.8-2.07 0-2.86zM5.41 20L4 18.59l7.72-7.72 1.47 1.35L5.41 20z\"/>\n",
              "  </svg>\n",
              "      </button>\n",
              "      \n",
              "  <style>\n",
              "    .colab-df-container {\n",
              "      display:flex;\n",
              "      flex-wrap:wrap;\n",
              "      gap: 12px;\n",
              "    }\n",
              "\n",
              "    .colab-df-convert {\n",
              "      background-color: #E8F0FE;\n",
              "      border: none;\n",
              "      border-radius: 50%;\n",
              "      cursor: pointer;\n",
              "      display: none;\n",
              "      fill: #1967D2;\n",
              "      height: 32px;\n",
              "      padding: 0 0 0 0;\n",
              "      width: 32px;\n",
              "    }\n",
              "\n",
              "    .colab-df-convert:hover {\n",
              "      background-color: #E2EBFA;\n",
              "      box-shadow: 0px 1px 2px rgba(60, 64, 67, 0.3), 0px 1px 3px 1px rgba(60, 64, 67, 0.15);\n",
              "      fill: #174EA6;\n",
              "    }\n",
              "\n",
              "    [theme=dark] .colab-df-convert {\n",
              "      background-color: #3B4455;\n",
              "      fill: #D2E3FC;\n",
              "    }\n",
              "\n",
              "    [theme=dark] .colab-df-convert:hover {\n",
              "      background-color: #434B5C;\n",
              "      box-shadow: 0px 1px 3px 1px rgba(0, 0, 0, 0.15);\n",
              "      filter: drop-shadow(0px 1px 2px rgba(0, 0, 0, 0.3));\n",
              "      fill: #FFFFFF;\n",
              "    }\n",
              "  </style>\n",
              "\n",
              "      <script>\n",
              "        const buttonEl =\n",
              "          document.querySelector('#df-735cbf0d-9f7d-4a05-8fa1-1d45fa6549e8 button.colab-df-convert');\n",
              "        buttonEl.style.display =\n",
              "          google.colab.kernel.accessAllowed ? 'block' : 'none';\n",
              "\n",
              "        async function convertToInteractive(key) {\n",
              "          const element = document.querySelector('#df-735cbf0d-9f7d-4a05-8fa1-1d45fa6549e8');\n",
              "          const dataTable =\n",
              "            await google.colab.kernel.invokeFunction('convertToInteractive',\n",
              "                                                     [key], {});\n",
              "          if (!dataTable) return;\n",
              "\n",
              "          const docLinkHtml = 'Like what you see? Visit the ' +\n",
              "            '<a target=\"_blank\" href=https://colab.research.google.com/notebooks/data_table.ipynb>data table notebook</a>'\n",
              "            + ' to learn more about interactive tables.';\n",
              "          element.innerHTML = '';\n",
              "          dataTable['output_type'] = 'display_data';\n",
              "          await google.colab.output.renderOutput(dataTable, element);\n",
              "          const docLink = document.createElement('div');\n",
              "          docLink.innerHTML = docLinkHtml;\n",
              "          element.appendChild(docLink);\n",
              "        }\n",
              "      </script>\n",
              "    </div>\n",
              "  </div>\n",
              "  "
            ]
          },
          "metadata": {},
          "execution_count": 27
        }
      ]
    },
    {
      "cell_type": "markdown",
      "metadata": {
        "id": "eRY2W2hfVXJv"
      },
      "source": [
        "### Step 9. Get the last business day of each month"
      ]
    },
    {
      "cell_type": "code",
      "metadata": {
        "id": "APU643vIVXJx",
        "colab": {
          "base_uri": "https://localhost:8080/",
          "height": 238
        },
        "outputId": "01310321-03fe-4690-fee0-da4e8325170c"
      },
      "source": [
        "apple_month = apple.resample('BM').mean()  # resample: 시계열 데이터(time-series data)를 다시 샘플링\n",
        "\n",
        "apple_month.head()\n",
        "\n",
        "# freq = 'D' 일 기준 주기\n",
        "# freq = 'W' 일주일 주기\n",
        "# freq = 'W-MON' 월요일 주기\n",
        "# freq = 'BM' 월말 날짜 기준 주기\n",
        "# freq = 'QS' 분기 시작 기준 주기\n",
        "# freq = 'AS' 연도 기준 주기\n",
        "# freq = 'H' 시간 기준 주기"
      ],
      "execution_count": 28,
      "outputs": [
        {
          "output_type": "execute_result",
          "data": {
            "text/plain": [
              "                 Open       High        Low      Close        Volume  \\\n",
              "Date                                                                   \n",
              "1980-12-31  30.481538  30.567692  30.443077  30.443077  2.586252e+07   \n",
              "1981-01-30  31.754762  31.826667  31.654762  31.654762  7.249867e+06   \n",
              "1981-02-27  26.480000  26.572105  26.407895  26.407895  4.231832e+06   \n",
              "1981-03-31  24.937727  25.016818  24.836364  24.836364  7.962691e+06   \n",
              "1981-04-30  27.286667  27.368095  27.227143  27.227143  6.392000e+06   \n",
              "\n",
              "            Adj Close  \n",
              "Date                   \n",
              "1980-12-31   0.473077  \n",
              "1981-01-30   0.493810  \n",
              "1981-02-27   0.411053  \n",
              "1981-03-31   0.387727  \n",
              "1981-04-30   0.423333  "
            ],
            "text/html": [
              "\n",
              "  <div id=\"df-c9bc4d67-838f-41c8-96a4-8b0bf04d51a6\">\n",
              "    <div class=\"colab-df-container\">\n",
              "      <div>\n",
              "<style scoped>\n",
              "    .dataframe tbody tr th:only-of-type {\n",
              "        vertical-align: middle;\n",
              "    }\n",
              "\n",
              "    .dataframe tbody tr th {\n",
              "        vertical-align: top;\n",
              "    }\n",
              "\n",
              "    .dataframe thead th {\n",
              "        text-align: right;\n",
              "    }\n",
              "</style>\n",
              "<table border=\"1\" class=\"dataframe\">\n",
              "  <thead>\n",
              "    <tr style=\"text-align: right;\">\n",
              "      <th></th>\n",
              "      <th>Open</th>\n",
              "      <th>High</th>\n",
              "      <th>Low</th>\n",
              "      <th>Close</th>\n",
              "      <th>Volume</th>\n",
              "      <th>Adj Close</th>\n",
              "    </tr>\n",
              "    <tr>\n",
              "      <th>Date</th>\n",
              "      <th></th>\n",
              "      <th></th>\n",
              "      <th></th>\n",
              "      <th></th>\n",
              "      <th></th>\n",
              "      <th></th>\n",
              "    </tr>\n",
              "  </thead>\n",
              "  <tbody>\n",
              "    <tr>\n",
              "      <th>1980-12-31</th>\n",
              "      <td>30.481538</td>\n",
              "      <td>30.567692</td>\n",
              "      <td>30.443077</td>\n",
              "      <td>30.443077</td>\n",
              "      <td>2.586252e+07</td>\n",
              "      <td>0.473077</td>\n",
              "    </tr>\n",
              "    <tr>\n",
              "      <th>1981-01-30</th>\n",
              "      <td>31.754762</td>\n",
              "      <td>31.826667</td>\n",
              "      <td>31.654762</td>\n",
              "      <td>31.654762</td>\n",
              "      <td>7.249867e+06</td>\n",
              "      <td>0.493810</td>\n",
              "    </tr>\n",
              "    <tr>\n",
              "      <th>1981-02-27</th>\n",
              "      <td>26.480000</td>\n",
              "      <td>26.572105</td>\n",
              "      <td>26.407895</td>\n",
              "      <td>26.407895</td>\n",
              "      <td>4.231832e+06</td>\n",
              "      <td>0.411053</td>\n",
              "    </tr>\n",
              "    <tr>\n",
              "      <th>1981-03-31</th>\n",
              "      <td>24.937727</td>\n",
              "      <td>25.016818</td>\n",
              "      <td>24.836364</td>\n",
              "      <td>24.836364</td>\n",
              "      <td>7.962691e+06</td>\n",
              "      <td>0.387727</td>\n",
              "    </tr>\n",
              "    <tr>\n",
              "      <th>1981-04-30</th>\n",
              "      <td>27.286667</td>\n",
              "      <td>27.368095</td>\n",
              "      <td>27.227143</td>\n",
              "      <td>27.227143</td>\n",
              "      <td>6.392000e+06</td>\n",
              "      <td>0.423333</td>\n",
              "    </tr>\n",
              "  </tbody>\n",
              "</table>\n",
              "</div>\n",
              "      <button class=\"colab-df-convert\" onclick=\"convertToInteractive('df-c9bc4d67-838f-41c8-96a4-8b0bf04d51a6')\"\n",
              "              title=\"Convert this dataframe to an interactive table.\"\n",
              "              style=\"display:none;\">\n",
              "        \n",
              "  <svg xmlns=\"http://www.w3.org/2000/svg\" height=\"24px\"viewBox=\"0 0 24 24\"\n",
              "       width=\"24px\">\n",
              "    <path d=\"M0 0h24v24H0V0z\" fill=\"none\"/>\n",
              "    <path d=\"M18.56 5.44l.94 2.06.94-2.06 2.06-.94-2.06-.94-.94-2.06-.94 2.06-2.06.94zm-11 1L8.5 8.5l.94-2.06 2.06-.94-2.06-.94L8.5 2.5l-.94 2.06-2.06.94zm10 10l.94 2.06.94-2.06 2.06-.94-2.06-.94-.94-2.06-.94 2.06-2.06.94z\"/><path d=\"M17.41 7.96l-1.37-1.37c-.4-.4-.92-.59-1.43-.59-.52 0-1.04.2-1.43.59L10.3 9.45l-7.72 7.72c-.78.78-.78 2.05 0 2.83L4 21.41c.39.39.9.59 1.41.59.51 0 1.02-.2 1.41-.59l7.78-7.78 2.81-2.81c.8-.78.8-2.07 0-2.86zM5.41 20L4 18.59l7.72-7.72 1.47 1.35L5.41 20z\"/>\n",
              "  </svg>\n",
              "      </button>\n",
              "      \n",
              "  <style>\n",
              "    .colab-df-container {\n",
              "      display:flex;\n",
              "      flex-wrap:wrap;\n",
              "      gap: 12px;\n",
              "    }\n",
              "\n",
              "    .colab-df-convert {\n",
              "      background-color: #E8F0FE;\n",
              "      border: none;\n",
              "      border-radius: 50%;\n",
              "      cursor: pointer;\n",
              "      display: none;\n",
              "      fill: #1967D2;\n",
              "      height: 32px;\n",
              "      padding: 0 0 0 0;\n",
              "      width: 32px;\n",
              "    }\n",
              "\n",
              "    .colab-df-convert:hover {\n",
              "      background-color: #E2EBFA;\n",
              "      box-shadow: 0px 1px 2px rgba(60, 64, 67, 0.3), 0px 1px 3px 1px rgba(60, 64, 67, 0.15);\n",
              "      fill: #174EA6;\n",
              "    }\n",
              "\n",
              "    [theme=dark] .colab-df-convert {\n",
              "      background-color: #3B4455;\n",
              "      fill: #D2E3FC;\n",
              "    }\n",
              "\n",
              "    [theme=dark] .colab-df-convert:hover {\n",
              "      background-color: #434B5C;\n",
              "      box-shadow: 0px 1px 3px 1px rgba(0, 0, 0, 0.15);\n",
              "      filter: drop-shadow(0px 1px 2px rgba(0, 0, 0, 0.3));\n",
              "      fill: #FFFFFF;\n",
              "    }\n",
              "  </style>\n",
              "\n",
              "      <script>\n",
              "        const buttonEl =\n",
              "          document.querySelector('#df-c9bc4d67-838f-41c8-96a4-8b0bf04d51a6 button.colab-df-convert');\n",
              "        buttonEl.style.display =\n",
              "          google.colab.kernel.accessAllowed ? 'block' : 'none';\n",
              "\n",
              "        async function convertToInteractive(key) {\n",
              "          const element = document.querySelector('#df-c9bc4d67-838f-41c8-96a4-8b0bf04d51a6');\n",
              "          const dataTable =\n",
              "            await google.colab.kernel.invokeFunction('convertToInteractive',\n",
              "                                                     [key], {});\n",
              "          if (!dataTable) return;\n",
              "\n",
              "          const docLinkHtml = 'Like what you see? Visit the ' +\n",
              "            '<a target=\"_blank\" href=https://colab.research.google.com/notebooks/data_table.ipynb>data table notebook</a>'\n",
              "            + ' to learn more about interactive tables.';\n",
              "          element.innerHTML = '';\n",
              "          dataTable['output_type'] = 'display_data';\n",
              "          await google.colab.output.renderOutput(dataTable, element);\n",
              "          const docLink = document.createElement('div');\n",
              "          docLink.innerHTML = docLinkHtml;\n",
              "          element.appendChild(docLink);\n",
              "        }\n",
              "      </script>\n",
              "    </div>\n",
              "  </div>\n",
              "  "
            ]
          },
          "metadata": {},
          "execution_count": 28
        }
      ]
    },
    {
      "cell_type": "markdown",
      "source": [
        "![image.png](data:image/png;base64,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)"
      ],
      "metadata": {
        "id": "Wcoj1PbCOPqv"
      }
    },
    {
      "cell_type": "markdown",
      "metadata": {
        "id": "a9O6hmadVXJy"
      },
      "source": [
        "### Step 10.  What is the difference in days between the first day and the oldest"
      ]
    },
    {
      "cell_type": "code",
      "metadata": {
        "id": "HMGS16w9VXJy",
        "colab": {
          "base_uri": "https://localhost:8080/"
        },
        "outputId": "6793a237-d790-4909-b380-a2dccff935bc"
      },
      "source": [
        "(apple.index.max() - apple.index.min()).days  # days: Number of days for each element"
      ],
      "execution_count": 29,
      "outputs": [
        {
          "output_type": "execute_result",
          "data": {
            "text/plain": [
              "12261"
            ]
          },
          "metadata": {},
          "execution_count": 29
        }
      ]
    },
    {
      "cell_type": "code",
      "source": [
        "apple.index.max() - apple.index.min()"
      ],
      "metadata": {
        "colab": {
          "base_uri": "https://localhost:8080/"
        },
        "id": "pxmgUFZ9EIq2",
        "outputId": "c7b88fb7-2dee-4e8a-d9b9-405a7dcaf541"
      },
      "execution_count": 30,
      "outputs": [
        {
          "output_type": "execute_result",
          "data": {
            "text/plain": [
              "Timedelta('12261 days 00:00:00')"
            ]
          },
          "metadata": {},
          "execution_count": 30
        }
      ]
    },
    {
      "cell_type": "markdown",
      "metadata": {
        "id": "Ey0zVGV5VXJz"
      },
      "source": [
        "### Step 11.  How many months in the data we have?"
      ]
    },
    {
      "cell_type": "code",
      "metadata": {
        "id": "Pxkdp6j-VXJz",
        "colab": {
          "base_uri": "https://localhost:8080/"
        },
        "outputId": "0aca6233-3477-4337-f882-abd2729fd9c0"
      },
      "source": [
        "apple_months = apple.resample('BM').mean()\n",
        "\n",
        "len(apple_months.index)"
      ],
      "execution_count": 35,
      "outputs": [
        {
          "output_type": "execute_result",
          "data": {
            "text/plain": [
              "404"
            ]
          },
          "metadata": {},
          "execution_count": 35
        }
      ]
    },
    {
      "cell_type": "markdown",
      "metadata": {
        "id": "zXIBNkMFVXJ0"
      },
      "source": [
        "### Step 12. Plot the 'Adj Close' value. Set the size of the figure to 13.5 x 9 inches"
      ]
    },
    {
      "cell_type": "code",
      "metadata": {
        "id": "bvsp15_IVXJ1",
        "colab": {
          "base_uri": "https://localhost:8080/",
          "height": 730
        },
        "outputId": "e8abe296-afc4-48c9-9ae2-c7fd47352e05"
      },
      "source": [
        "appl_open = apple['Adj Close'].plot(title = \"Apple Stock\")\n",
        "\n",
        "fig = appl_open.get_figure()\n",
        "fig.set_size_inches(13.5, 9)"
      ],
      "execution_count": 32,
      "outputs": [
        {
          "output_type": "display_data",
          "data": {
            "text/plain": [
              "<Figure size 1350x900 with 1 Axes>"
            ],
            "image/png": "[encoded data removed]"
          },
          "metadata": {}
        }
      ]
    },
    {
      "cell_type": "code",
      "source": [
        "plt.figure(figsize=(13.5, 9))\n",
        "plt.hist(apple[\"Adj Close\"])\n",
        "plt.show()"
      ],
      "metadata": {
        "colab": {
          "base_uri": "https://localhost:8080/",
          "height": 753
        },
        "id": "ccZl9nHTGshm",
        "outputId": "12afee5e-cec9-42da-a40a-3a0d1addd952"
      },
      "execution_count": 33,
      "outputs": [
        {
          "output_type": "display_data",
          "data": {
            "text/plain": [
              "<Figure size 1350x900 with 1 Axes>"
            ],
            "image/png": "[encoded data removed]"
          },
          "metadata": {}
        }
      ]
    }
  ]
}
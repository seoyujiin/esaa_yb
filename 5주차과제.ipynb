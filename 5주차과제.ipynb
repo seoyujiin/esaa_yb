{
  "nbformat": 4,
  "nbformat_minor": 0,
  "metadata": {
    "colab": {
      "provenance": [],
      "authorship_tag": "ABX9TyPDDInabeYmA7yP3ynad0Ws",
      "include_colab_link": true
    },
    "kernelspec": {
      "name": "python3",
      "display_name": "Python 3"
    },
    "language_info": {
      "name": "python"
    }
  },
  "cells": [
    {
      "cell_type": "markdown",
      "metadata": {
        "id": "view-in-github",
        "colab_type": "text"
      },
      "source": [
        "<a href=\"https://colab.research.google.com/github/seoyujiin/esaa_yb/blob/main/5%EC%A3%BC%EC%B0%A8%EA%B3%BC%EC%A0%9C.ipynb\" target=\"_parent\"><img src=\"https://colab.research.google.com/assets/colab-badge.svg\" alt=\"Open In Colab\"/></a>"
      ]
    },
    {
      "cell_type": "code",
      "source": [
        "from google.colab import drive\n",
        "drive.mount('/content/drive')"
      ],
      "metadata": {
        "colab": {
          "base_uri": "https://localhost:8080/"
        },
        "id": "gk3CsSFwzmwJ",
        "outputId": "1550abef-b559-44bf-f0a7-4dde7a5d77a5"
      },
      "execution_count": null,
      "outputs": [
        {
          "output_type": "stream",
          "name": "stdout",
          "text": [
            "Mounted at /content/drive\n"
          ]
        }
      ]
    },
    {
      "cell_type": "markdown",
      "source": [
        "#### **12-1. datetime 오브젝트**\n",
        "\n",
        "* 날짜와 시간을 처리하는 등의 다양한 기능을 제공하는 파이썬 라이브러리\n",
        "  * 날짜를 처리하는 date 오브젝트\n",
        "  * 시간을 처리하는 time 오브젝트\n",
        "  * 날짜와 시간을 모두 처리하는 datetime 오브젝트"
      ],
      "metadata": {
        "id": "WvTDOrkLu1tK"
      }
    },
    {
      "cell_type": "markdown",
      "source": [
        "**datetime 오브젝트 사용하기**"
      ],
      "metadata": {
        "id": "MvHaVtc7v3-U"
      }
    },
    {
      "cell_type": "code",
      "execution_count": null,
      "metadata": {
        "colab": {
          "base_uri": "https://localhost:8080/"
        },
        "id": "kXiFn7DTuMop",
        "outputId": "126d429c-eca4-4cec-ad50-f7b6bd4cded9"
      },
      "outputs": [
        {
          "output_type": "stream",
          "name": "stdout",
          "text": [
            "2023-04-06 11:59:31.361228\n"
          ]
        }
      ],
      "source": [
        "from datetime import datetime\n",
        "\n",
        "now1 = datetime.now()\n",
        "print(now1)"
      ]
    },
    {
      "cell_type": "code",
      "source": [
        "now2 = datetime.today()\n",
        "print(now2)"
      ],
      "metadata": {
        "colab": {
          "base_uri": "https://localhost:8080/"
        },
        "id": "n5rk7F9AuTjl",
        "outputId": "0ffde055-7c95-4d4a-f073-f6e4be034513"
      },
      "execution_count": null,
      "outputs": [
        {
          "output_type": "stream",
          "name": "stdout",
          "text": [
            "2023-04-06 11:59:33.332105\n"
          ]
        }
      ]
    },
    {
      "cell_type": "code",
      "source": [
        "# 시간 직접 입력\n",
        "t1 = datetime.now()\n",
        "t2 = datetime(1970, 1, 1)\n",
        "t3 = datetime(1970, 12, 12, 13, 24, 34)\n",
        "\n",
        "print(t1)\n",
        "print(t2)\n",
        "print(t3)"
      ],
      "metadata": {
        "colab": {
          "base_uri": "https://localhost:8080/"
        },
        "id": "i2-fP3d3uTgm",
        "outputId": "0f812666-29f6-4a44-e392-a9aed6ef5ce3"
      },
      "execution_count": null,
      "outputs": [
        {
          "output_type": "stream",
          "name": "stdout",
          "text": [
            "2023-04-06 11:59:34.583579\n",
            "1970-01-01 00:00:00\n",
            "1970-12-12 13:24:34\n"
          ]
        }
      ]
    },
    {
      "cell_type": "code",
      "source": [
        "# 시간 계산\n",
        "diff1 = t1 - t2\n",
        "\n",
        "print(diff1)\n",
        "print(type(diff1))"
      ],
      "metadata": {
        "colab": {
          "base_uri": "https://localhost:8080/"
        },
        "id": "6r4EJklwuTdn",
        "outputId": "734c25f9-4952-41a3-dc23-67984164a903"
      },
      "execution_count": null,
      "outputs": [
        {
          "output_type": "stream",
          "name": "stdout",
          "text": [
            "19453 days, 11:59:34.583579\n",
            "<class 'datetime.timedelta'>\n"
          ]
        }
      ]
    },
    {
      "cell_type": "code",
      "source": [
        "diff2 = t2 - t1\n",
        "\n",
        "print(diff2)\n",
        "print(type(diff2))"
      ],
      "metadata": {
        "colab": {
          "base_uri": "https://localhost:8080/"
        },
        "id": "jzglD0cxuTbM",
        "outputId": "e6d02668-c5c2-4ab0-d772-4be3c6c09e06"
      },
      "execution_count": null,
      "outputs": [
        {
          "output_type": "stream",
          "name": "stdout",
          "text": [
            "-19454 days, 12:00:25.416421\n",
            "<class 'datetime.timedelta'>\n"
          ]
        }
      ]
    },
    {
      "cell_type": "markdown",
      "source": [
        "**테슬라 주식 데이터로 시간 계산하기**"
      ],
      "metadata": {
        "id": "IHK6ogs8xr7z"
      }
    },
    {
      "cell_type": "code",
      "source": [
        "pip install pandas-datareader"
      ],
      "metadata": {
        "colab": {
          "base_uri": "https://localhost:8080/"
        },
        "id": "CDF2wgyzuTYU",
        "outputId": "287c0f59-ba29-406d-f9d9-9c8a36837fcd"
      },
      "execution_count": null,
      "outputs": [
        {
          "output_type": "stream",
          "name": "stdout",
          "text": [
            "Looking in indexes: https://pypi.org/simple, https://us-python.pkg.dev/colab-wheels/public/simple/\n",
            "Requirement already satisfied: pandas-datareader in /usr/local/lib/python3.9/dist-packages (0.10.0)\n",
            "Requirement already satisfied: requests>=2.19.0 in /usr/local/lib/python3.9/dist-packages (from pandas-datareader) (2.27.1)\n",
            "Requirement already satisfied: lxml in /usr/local/lib/python3.9/dist-packages (from pandas-datareader) (4.9.2)\n",
            "Requirement already satisfied: pandas>=0.23 in /usr/local/lib/python3.9/dist-packages (from pandas-datareader) (1.4.4)\n",
            "Requirement already satisfied: pytz>=2020.1 in /usr/local/lib/python3.9/dist-packages (from pandas>=0.23->pandas-datareader) (2022.7.1)\n",
            "Requirement already satisfied: numpy>=1.18.5 in /usr/local/lib/python3.9/dist-packages (from pandas>=0.23->pandas-datareader) (1.22.4)\n",
            "Requirement already satisfied: python-dateutil>=2.8.1 in /usr/local/lib/python3.9/dist-packages (from pandas>=0.23->pandas-datareader) (2.8.2)\n",
            "Requirement already satisfied: charset-normalizer~=2.0.0 in /usr/local/lib/python3.9/dist-packages (from requests>=2.19.0->pandas-datareader) (2.0.12)\n",
            "Requirement already satisfied: idna<4,>=2.5 in /usr/local/lib/python3.9/dist-packages (from requests>=2.19.0->pandas-datareader) (3.4)\n",
            "Requirement already satisfied: certifi>=2017.4.17 in /usr/local/lib/python3.9/dist-packages (from requests>=2.19.0->pandas-datareader) (2022.12.7)\n",
            "Requirement already satisfied: urllib3<1.27,>=1.21.1 in /usr/local/lib/python3.9/dist-packages (from requests>=2.19.0->pandas-datareader) (1.26.15)\n",
            "Requirement already satisfied: six>=1.5 in /usr/local/lib/python3.9/dist-packages (from python-dateutil>=2.8.1->pandas>=0.23->pandas-datareader) (1.16.0)\n"
          ]
        }
      ]
    },
    {
      "cell_type": "code",
      "source": [
        "# 데이터 불러오기\n",
        "import pandas as pd\n",
        "pd.core.common.is_list_like = pd.api.types.is_list_like\n",
        "import pandas_datareader as pdr\n",
        "\n",
        "# get_data_quandl 메서드에 TSLA 문자열 전달하여 tesla에 데이터프라임 저장\n",
        "# tesla = pdr.get_data_quandl('TSLA', api_key='ghZfxPiWMzTc8rzQiJVq')\n",
        "\n",
        "# to_csv 메서드 사용하여 tesla에 저장된 데이터프레임을 파일로 저장\n",
        "# tesla.to_csv('/content/drive/MyDrive/esaa/data/tesla_stock_quandl.csv')\n",
        "\n",
        "tesla = pd.read_csv('/content/drive/MyDrive/esaa/data/tesla_stock_quandl.csv')"
      ],
      "metadata": {
        "id": "3TZ_YjVOuTVc"
      },
      "execution_count": 8,
      "outputs": []
    },
    {
      "cell_type": "code",
      "source": [
        "# Date 열은 문자열로 저장되어있음을 확인\n",
        "print(tesla.head())"
      ],
      "metadata": {
        "colab": {
          "base_uri": "https://localhost:8080/"
        },
        "id": "ls-7CqAGuTSp",
        "outputId": "7b6e2fdb-d03f-449c-b51e-b71cf399de57"
      },
      "execution_count": 9,
      "outputs": [
        {
          "output_type": "stream",
          "name": "stdout",
          "text": [
            "         Date    Open    High     Low   Close    Volume  ExDividend  \\\n",
            "0  2018-03-27  304.00  304.27  277.18  279.18  13696168           0   \n",
            "1  2018-03-26  307.34  307.59  291.36  304.18   8324639           0   \n",
            "2  2018-03-23  311.25  311.61  300.45  301.54   6600538           0   \n",
            "3  2018-03-22  313.89  318.82  308.18  309.10   4914307           0   \n",
            "4  2018-03-21  310.25  322.44  310.19  316.53   5927881           0   \n",
            "\n",
            "   SplitRatio  AdjOpen  AdjHigh  AdjLow  AdjClose  AdjVolume  \n",
            "0           1   304.00   304.27  277.18    279.18   13696168  \n",
            "1           1   307.34   307.59  291.36    304.18    8324639  \n",
            "2           1   311.25   311.61  300.45    301.54    6600538  \n",
            "3           1   313.89   318.82  308.18    309.10    4914307  \n",
            "4           1   310.25   322.44  310.19    316.53    5927881  \n"
          ]
        }
      ]
    },
    {
      "cell_type": "code",
      "source": [
        "# Date 열을 Datetime 형으로 변환 - read_csv 메서드로 데이터 집합을 불러올 때 parse_dates 인자에 Date 열 전달\n",
        "# tesla = pd.read_csv('/content/drive/MyDrive/esaa/data/tesla_stock_quandl.csv', parse_dates=[0])\n",
        "tesla['Date'] = pd.to_datetime(tesla['Date'])\n",
        "print(tesla.info())"
      ],
      "metadata": {
        "colab": {
          "base_uri": "https://localhost:8080/"
        },
        "id": "XERz5qhIuTP9",
        "outputId": "71ad111e-9c8e-4ba4-bad2-464f6e637c9a"
      },
      "execution_count": 10,
      "outputs": [
        {
          "output_type": "stream",
          "name": "stdout",
          "text": [
            "<class 'pandas.core.frame.DataFrame'>\n",
            "RangeIndex: 1949 entries, 0 to 1948\n",
            "Data columns (total 13 columns):\n",
            " #   Column      Non-Null Count  Dtype         \n",
            "---  ------      --------------  -----         \n",
            " 0   Date        1949 non-null   datetime64[ns]\n",
            " 1   Open        1949 non-null   float64       \n",
            " 2   High        1949 non-null   float64       \n",
            " 3   Low         1949 non-null   float64       \n",
            " 4   Close       1949 non-null   float64       \n",
            " 5   Volume      1949 non-null   int64         \n",
            " 6   ExDividend  1949 non-null   int64         \n",
            " 7   SplitRatio  1949 non-null   int64         \n",
            " 8   AdjOpen     1949 non-null   float64       \n",
            " 9   AdjHigh     1949 non-null   float64       \n",
            " 10  AdjLow      1949 non-null   float64       \n",
            " 11  AdjClose    1949 non-null   float64       \n",
            " 12  AdjVolume   1949 non-null   int64         \n",
            "dtypes: datetime64[ns](1), float64(8), int64(4)\n",
            "memory usage: 198.1 KB\n",
            "None\n"
          ]
        }
      ]
    },
    {
      "cell_type": "code",
      "source": [
        "# dt 접근자 사용 가능, 불린 추출로 2010년 6월의 데이터만 추출\n",
        "print(tesla.loc[(tesla.Date.dt.year == 2010) & (tesla.Date.dt.month == 6)])"
      ],
      "metadata": {
        "colab": {
          "base_uri": "https://localhost:8080/"
        },
        "id": "cijWon8NuTM9",
        "outputId": "5bef85f4-5c98-497a-c3c1-456651ea5131"
      },
      "execution_count": 11,
      "outputs": [
        {
          "output_type": "stream",
          "name": "stdout",
          "text": [
            "           Date   Open     High    Low  Close    Volume  ExDividend  \\\n",
            "1947 2010-06-30  25.79  30.4192  23.30  23.83  17187100           0   \n",
            "1948 2010-06-29  19.00  25.0000  17.54  23.89  18766300           0   \n",
            "\n",
            "      SplitRatio  AdjOpen  AdjHigh  AdjLow  AdjClose  AdjVolume  \n",
            "1947           1    25.79  30.4192   23.30     23.83   17187100  \n",
            "1948           1    19.00  25.0000   17.54     23.89   18766300  \n"
          ]
        }
      ]
    },
    {
      "cell_type": "markdown",
      "source": [
        "**datetime 오브젝트와 인덱스 - DatetimeIndex**\n",
        "\n",
        "datetime 오브젝트를 데이터프레임의 인덱스로 설정하면 원하는 시간의 데이터 바로 추출 가능"
      ],
      "metadata": {
        "id": "qi3yJqTK1sPU"
      }
    },
    {
      "cell_type": "code",
      "source": [
        "# Date 열을 tesla 데이터프레임의 인덱스로 지정\n",
        "tesla.index = tesla['Date']\n",
        "print(tesla.index)"
      ],
      "metadata": {
        "colab": {
          "base_uri": "https://localhost:8080/"
        },
        "id": "Q6JOD6JiuTKP",
        "outputId": "0b588875-c7d3-4bb4-bf31-300e410b9dc3"
      },
      "execution_count": 12,
      "outputs": [
        {
          "output_type": "stream",
          "name": "stdout",
          "text": [
            "DatetimeIndex(['2018-03-27', '2018-03-26', '2018-03-23', '2018-03-22',\n",
            "               '2018-03-21', '2018-03-20', '2018-03-19', '2018-03-16',\n",
            "               '2018-03-15', '2018-03-14',\n",
            "               ...\n",
            "               '2010-07-13', '2010-07-12', '2010-07-09', '2010-07-08',\n",
            "               '2010-07-07', '2010-07-06', '2010-07-02', '2010-07-01',\n",
            "               '2010-06-30', '2010-06-29'],\n",
            "              dtype='datetime64[ns]', name='Date', length=1949, freq=None)\n"
          ]
        }
      ]
    },
    {
      "cell_type": "code",
      "source": [
        "# 2015년 데이터 추출\n",
        "print(tesla['2015'].iloc[:5, :5])"
      ],
      "metadata": {
        "colab": {
          "base_uri": "https://localhost:8080/"
        },
        "id": "7cqPteJ3uTHH",
        "outputId": "fe74a2d9-e432-40c1-d96b-9b269d5803f7"
      },
      "execution_count": 13,
      "outputs": [
        {
          "output_type": "stream",
          "name": "stdout",
          "text": [
            "                 Date    Open     High       Low   Close\n",
            "Date                                                    \n",
            "2015-12-31 2015-12-31  238.51  243.450  238.3700  240.01\n",
            "2015-12-30 2015-12-30  236.60  243.634  235.6707  238.09\n",
            "2015-12-29 2015-12-29  230.06  237.720  229.5470  237.19\n",
            "2015-12-28 2015-12-28  231.49  231.980  225.5400  228.95\n",
            "2015-12-24 2015-12-24  230.56  231.880  228.2800  230.57\n"
          ]
        },
        {
          "output_type": "stream",
          "name": "stderr",
          "text": [
            "<ipython-input-13-d5252d9bcafd>:2: FutureWarning: Indexing a DataFrame with a datetimelike index using a single string to slice the rows, like `frame[string]`, is deprecated and will be removed in a future version. Use `frame.loc[string]` instead.\n",
            "  print(tesla['2015'].iloc[:5, :5])\n"
          ]
        }
      ]
    },
    {
      "cell_type": "code",
      "source": [
        "# 2010년 6월 데이터 추출\n",
        "print(tesla['2010-06'].iloc[:, :5])"
      ],
      "metadata": {
        "colab": {
          "base_uri": "https://localhost:8080/"
        },
        "id": "1Ginmtx5uTDv",
        "outputId": "b5612c88-cd5d-4aa0-e144-312d00666175"
      },
      "execution_count": 14,
      "outputs": [
        {
          "output_type": "stream",
          "name": "stdout",
          "text": [
            "                 Date   Open     High    Low  Close\n",
            "Date                                               \n",
            "2010-06-30 2010-06-30  25.79  30.4192  23.30  23.83\n",
            "2010-06-29 2010-06-29  19.00  25.0000  17.54  23.89\n"
          ]
        },
        {
          "output_type": "stream",
          "name": "stderr",
          "text": [
            "<ipython-input-14-ac975641dc83>:2: FutureWarning: Indexing a DataFrame with a datetimelike index using a single string to slice the rows, like `frame[string]`, is deprecated and will be removed in a future version. Use `frame.loc[string]` instead.\n",
            "  print(tesla['2010-06'].iloc[:, :5])\n"
          ]
        }
      ]
    },
    {
      "cell_type": "markdown",
      "source": [
        "**시간 간격과 인덱스 - TimedeltaIndex**\n",
        "\n",
        "시간 간격을 인덱스로 지정하여 데이터 추출"
      ],
      "metadata": {
        "id": "2F_r9urb21Qy"
      }
    },
    {
      "cell_type": "code",
      "source": [
        "# 시간 - 시간의 최솟값 = 시간 간격\n",
        "tesla['ref_date'] = tesla['Date'] - tesla['Date'].min()\n",
        "print(tesla.head())"
      ],
      "metadata": {
        "colab": {
          "base_uri": "https://localhost:8080/"
        },
        "id": "gh0yX5uYuTA2",
        "outputId": "3c3db225-7863-4f88-881b-7373613ae2c8"
      },
      "execution_count": 15,
      "outputs": [
        {
          "output_type": "stream",
          "name": "stdout",
          "text": [
            "                 Date    Open    High     Low   Close    Volume  ExDividend  \\\n",
            "Date                                                                          \n",
            "2018-03-27 2018-03-27  304.00  304.27  277.18  279.18  13696168           0   \n",
            "2018-03-26 2018-03-26  307.34  307.59  291.36  304.18   8324639           0   \n",
            "2018-03-23 2018-03-23  311.25  311.61  300.45  301.54   6600538           0   \n",
            "2018-03-22 2018-03-22  313.89  318.82  308.18  309.10   4914307           0   \n",
            "2018-03-21 2018-03-21  310.25  322.44  310.19  316.53   5927881           0   \n",
            "\n",
            "            SplitRatio  AdjOpen  AdjHigh  AdjLow  AdjClose  AdjVolume  \\\n",
            "Date                                                                    \n",
            "2018-03-27           1   304.00   304.27  277.18    279.18   13696168   \n",
            "2018-03-26           1   307.34   307.59  291.36    304.18    8324639   \n",
            "2018-03-23           1   311.25   311.61  300.45    301.54    6600538   \n",
            "2018-03-22           1   313.89   318.82  308.18    309.10    4914307   \n",
            "2018-03-21           1   310.25   322.44  310.19    316.53    5927881   \n",
            "\n",
            "            ref_date  \n",
            "Date                  \n",
            "2018-03-27 2828 days  \n",
            "2018-03-26 2827 days  \n",
            "2018-03-23 2824 days  \n",
            "2018-03-22 2823 days  \n",
            "2018-03-21 2822 days  \n"
          ]
        }
      ]
    },
    {
      "cell_type": "code",
      "source": [
        "# ref_date로 인덱스 설정\n",
        "tesla.index = tesla['ref_date']\n",
        "print(tesla.iloc[:5, :5])"
      ],
      "metadata": {
        "colab": {
          "base_uri": "https://localhost:8080/"
        },
        "id": "pb1xVU7juS9z",
        "outputId": "8c06a7d8-0234-4a60-9337-942124fcffcf"
      },
      "execution_count": 16,
      "outputs": [
        {
          "output_type": "stream",
          "name": "stdout",
          "text": [
            "                Date    Open    High     Low   Close\n",
            "ref_date                                            \n",
            "2828 days 2018-03-27  304.00  304.27  277.18  279.18\n",
            "2827 days 2018-03-26  307.34  307.59  291.36  304.18\n",
            "2824 days 2018-03-23  311.25  311.61  300.45  301.54\n",
            "2823 days 2018-03-22  313.89  318.82  308.18  309.10\n",
            "2822 days 2018-03-21  310.25  322.44  310.19  316.53\n"
          ]
        }
      ]
    },
    {
      "cell_type": "code",
      "source": [
        "print(tesla['5 days':].iloc[:5, :5])"
      ],
      "metadata": {
        "colab": {
          "base_uri": "https://localhost:8080/"
        },
        "id": "S1mJbHU-uS7R",
        "outputId": "a1ca8788-b243-4b67-c227-2b1f748c9156"
      },
      "execution_count": 17,
      "outputs": [
        {
          "output_type": "stream",
          "name": "stdout",
          "text": [
            "               Date   Open     High    Low  Close\n",
            "ref_date                                         \n",
            "3 days   2010-07-02  23.00  23.1000  18.71  19.20\n",
            "2 days   2010-07-01  25.00  25.9200  20.27  21.96\n",
            "1 days   2010-06-30  25.79  30.4192  23.30  23.83\n",
            "0 days   2010-06-29  19.00  25.0000  17.54  23.89\n"
          ]
        }
      ]
    },
    {
      "cell_type": "markdown",
      "source": [
        "**시간 범위와 인덱스**\n",
        "\n",
        "특정일에 누락된 데이터도 포함시켜 데이터를 살펴보려고 한다면 임의로 시간 범위를 생성하여 인덱스로 지정해야 한다"
      ],
      "metadata": {
        "id": "Ag0KiYEi4Zj5"
      }
    },
    {
      "cell_type": "code",
      "source": [
        "ebola = pd.read_csv('/content/drive/MyDrive/esaa/data/country_timeseries.csv', parse_dates=[0])\n",
        "print(ebola.iloc[:5,:5])"
      ],
      "metadata": {
        "id": "LSluJT3nuS4V",
        "colab": {
          "base_uri": "https://localhost:8080/"
        },
        "outputId": "464bcaae-118a-4bd1-9996-aa64a1c71d94"
      },
      "execution_count": 18,
      "outputs": [
        {
          "output_type": "stream",
          "name": "stdout",
          "text": [
            "        Date  Day  Cases_Guinea  Cases_Liberia  Cases_SierraLeone\n",
            "0 2015-01-05  289        2776.0            NaN            10030.0\n",
            "1 2015-01-04  288        2775.0            NaN             9780.0\n",
            "2 2015-01-03  287        2769.0         8166.0             9722.0\n",
            "3 2015-01-02  286           NaN         8157.0                NaN\n",
            "4 2014-12-31  284        2730.0         8115.0             9633.0\n"
          ]
        }
      ]
    },
    {
      "cell_type": "code",
      "source": [
        "print(ebola.iloc[:-5, :5])  # 누락 확인 가능"
      ],
      "metadata": {
        "id": "Hfp7QTLtuS1t",
        "colab": {
          "base_uri": "https://localhost:8080/"
        },
        "outputId": "041646d7-1661-4968-ae7c-cb2aa01c9f43"
      },
      "execution_count": 19,
      "outputs": [
        {
          "output_type": "stream",
          "name": "stdout",
          "text": [
            "          Date  Day  Cases_Guinea  Cases_Liberia  Cases_SierraLeone\n",
            "0   2015-01-05  289        2776.0            NaN            10030.0\n",
            "1   2015-01-04  288        2775.0            NaN             9780.0\n",
            "2   2015-01-03  287        2769.0         8166.0             9722.0\n",
            "3   2015-01-02  286           NaN         8157.0                NaN\n",
            "4   2014-12-31  284        2730.0         8115.0             9633.0\n",
            "..         ...  ...           ...            ...                ...\n",
            "112 2014-04-04   13         143.0           18.0                2.0\n",
            "113 2014-04-01   10         127.0            8.0                2.0\n",
            "114 2014-03-31    9         122.0            8.0                2.0\n",
            "115 2014-03-29    7         112.0            7.0                NaN\n",
            "116 2014-03-28    6         112.0            3.0                2.0\n",
            "\n",
            "[117 rows x 5 columns]\n"
          ]
        }
      ]
    },
    {
      "cell_type": "code",
      "source": [
        "# 2014년 12월 31일부터 2015년 1월 5일 사이의 시간 인덱스 생성\n",
        "head_range = pd.date_range(start='2014-12-31', end='2015-01-05')\n",
        "print(head_range)"
      ],
      "metadata": {
        "id": "mZqsxr1SuSy1",
        "colab": {
          "base_uri": "https://localhost:8080/"
        },
        "outputId": "c2c6edcf-ccb4-4258-8870-988122b0c777"
      },
      "execution_count": 20,
      "outputs": [
        {
          "output_type": "stream",
          "name": "stdout",
          "text": [
            "DatetimeIndex(['2014-12-31', '2015-01-01', '2015-01-02', '2015-01-03',\n",
            "               '2015-01-04', '2015-01-05'],\n",
            "              dtype='datetime64[ns]', freq='D')\n"
          ]
        }
      ]
    },
    {
      "cell_type": "code",
      "source": [
        "ebola_5 = ebola.head()\n",
        "ebola_5.index = ebola_5['Date']\n",
        "ebola_5.reindex(head_range)\n",
        "print(ebola_5.iloc[:5, :5])"
      ],
      "metadata": {
        "id": "aTJL3SVouSv-",
        "colab": {
          "base_uri": "https://localhost:8080/"
        },
        "outputId": "80ec70db-256b-4672-e14a-3f86b8a85e66"
      },
      "execution_count": 21,
      "outputs": [
        {
          "output_type": "stream",
          "name": "stdout",
          "text": [
            "                 Date  Day  Cases_Guinea  Cases_Liberia  Cases_SierraLeone\n",
            "Date                                                                      \n",
            "2015-01-05 2015-01-05  289        2776.0            NaN            10030.0\n",
            "2015-01-04 2015-01-04  288        2775.0            NaN             9780.0\n",
            "2015-01-03 2015-01-03  287        2769.0         8166.0             9722.0\n",
            "2015-01-02 2015-01-02  286           NaN         8157.0                NaN\n",
            "2014-12-31 2014-12-31  284        2730.0         8115.0             9633.0\n"
          ]
        }
      ]
    },
    {
      "cell_type": "markdown",
      "source": [
        "**시간 범위의 주기 설정하기**\n",
        "\n",
        "시간 범위를 인덱스로 지정하면 DatetimeIndex 자료형이 만들어진다 DatetimeIndex에는 freq 속성이 포함되어 있다 freq 속성값을 지정하면 시간 간격을 조절하여 DatetimeIndex를 만들 수 있다\n",
        "\n",
        "freq 속성값으로 사용할 수 있는 시간 주기\n",
        "* B: 평일만 포함\n",
        "* C: 사용자가 정의한 평일만 포함\n",
        "* D: 달력 일자 단위\n",
        "* W: 주간 단위\n",
        "* M: 월 마지막 날만 포함\n",
        "* SM: 15일과 월 마지막 날만 포함\n",
        "* BM: M 주기의 값이 휴일이면 제외하고 평일만 포함\n",
        "* CBM: BM에 사용자 정의 평일을 적용\n",
        "* MS: 월 시작일만 포함\n",
        "* SMS: 월 시작일과 15일만 포함\n",
        "* BMS: MS 주기의 값이 휴일이면 제외하고 평일만 포함\n",
        "* CBMS: BMS에 사용자 정의 평일을 적용\n",
        "* Q: 3, 6, 9, 12월 분기 마지막 날만 포함\n",
        "* BQ: 3, 6, 9, 12월 분기 마지막 날이 휴일이면 제외하고 평일만 포함\n",
        "* QS: 3, 6, 9, 12월 분기 시작일만 포함\n",
        "* BQS: 3, 6, 9, 12월 분기 시작일이 휴일이면 제외하고 평일만 포함\n",
        "* A: 년의 마지막 날만 포함\n",
        "* BA: 년의 마지막 날이 휴일이면 제외하고 평일만 포함\n",
        "* AS: 년의 시작일만 포함\n",
        "* BAS: 년의 시작일이 휴일이면 제외하고 평일만 포함\n",
        "* BH: 평일을 시간 단위로 포함(09:00 ~ 16:00)\n",
        "* H: 시간 단위로 포함(00:00 ~ 00:00)\n",
        "* T: 분 단위 포함\n",
        "* S: 초 단위 포함\n",
        "* L: 밀리초 단위 포함\n",
        "* U: 마이크로초 단위포함\n",
        "* N: 나노초 단위 포함\n"
      ],
      "metadata": {
        "id": "ujmZl5BT81ga"
      }
    }
  ]
}
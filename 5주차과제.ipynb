{
  "nbformat": 4,
  "nbformat_minor": 0,
  "metadata": {
    "colab": {
      "provenance": [],
      "authorship_tag": "ABX9TyOwXZOTIZFry8qF8lCqabQw",
      "include_colab_link": true
    },
    "kernelspec": {
      "name": "python3",
      "display_name": "Python 3"
    },
    "language_info": {
      "name": "python"
    }
  },
  "cells": [
    {
      "cell_type": "markdown",
      "metadata": {
        "id": "view-in-github",
        "colab_type": "text"
      },
      "source": [
        "<a href=\"https://colab.research.google.com/github/seoyujiin/esaa_yb/blob/main/5%EC%A3%BC%EC%B0%A8%EA%B3%BC%EC%A0%9C.ipynb\" target=\"_parent\"><img src=\"https://colab.research.google.com/assets/colab-badge.svg\" alt=\"Open In Colab\"/></a>"
      ]
    },
    {
      "cell_type": "code",
      "source": [
        "from google.colab import drive\n",
        "drive.mount('/content/drive')"
      ],
      "metadata": {
        "colab": {
          "base_uri": "https://localhost:8080/"
        },
        "id": "gk3CsSFwzmwJ",
        "outputId": "025861d2-5638-43bf-ef6a-694345a8f410"
      },
      "execution_count": 1,
      "outputs": [
        {
          "output_type": "stream",
          "name": "stdout",
          "text": [
            "Drive already mounted at /content/drive; to attempt to forcibly remount, call drive.mount(\"/content/drive\", force_remount=True).\n"
          ]
        }
      ]
    },
    {
      "cell_type": "markdown",
      "source": [
        "#### **12-1. datetime 오브젝트**\n",
        "\n",
        "* 날짜와 시간을 처리하는 등의 다양한 기능을 제공하는 파이썬 라이브러리\n",
        "  * 날짜를 처리하는 date 오브젝트\n",
        "  * 시간을 처리하는 time 오브젝트\n",
        "  * 날짜와 시간을 모두 처리하는 datetime 오브젝트"
      ],
      "metadata": {
        "id": "WvTDOrkLu1tK"
      }
    },
    {
      "cell_type": "markdown",
      "source": [
        "**datetime 오브젝트 사용하기**"
      ],
      "metadata": {
        "id": "MvHaVtc7v3-U"
      }
    },
    {
      "cell_type": "code",
      "execution_count": 2,
      "metadata": {
        "colab": {
          "base_uri": "https://localhost:8080/"
        },
        "id": "kXiFn7DTuMop",
        "outputId": "ad71633f-afe4-4474-ab74-1a98d1da4205"
      },
      "outputs": [
        {
          "output_type": "stream",
          "name": "stdout",
          "text": [
            "2023-03-31 13:31:43.815831\n"
          ]
        }
      ],
      "source": [
        "from datetime import datetime\n",
        "\n",
        "now1 = datetime.now()\n",
        "print(now1)"
      ]
    },
    {
      "cell_type": "code",
      "source": [
        "now2 = datetime.today()\n",
        "print(now2)"
      ],
      "metadata": {
        "colab": {
          "base_uri": "https://localhost:8080/"
        },
        "id": "n5rk7F9AuTjl",
        "outputId": "3ad91464-2917-459b-a77f-775696114f70"
      },
      "execution_count": 3,
      "outputs": [
        {
          "output_type": "stream",
          "name": "stdout",
          "text": [
            "2023-03-31 13:31:45.921087\n"
          ]
        }
      ]
    },
    {
      "cell_type": "code",
      "source": [
        "# 시간 직접 입력\n",
        "t1 = datetime.now()\n",
        "t2 = datetime(1970, 1, 1)\n",
        "t3 = datetime(1970, 12, 12, 13, 24, 34)\n",
        "\n",
        "print(t1)\n",
        "print(t2)\n",
        "print(t3)"
      ],
      "metadata": {
        "colab": {
          "base_uri": "https://localhost:8080/"
        },
        "id": "i2-fP3d3uTgm",
        "outputId": "2678e52e-90c5-4b42-f6a0-d9b2d9f29dae"
      },
      "execution_count": 4,
      "outputs": [
        {
          "output_type": "stream",
          "name": "stdout",
          "text": [
            "2023-03-31 13:31:47.549588\n",
            "1970-01-01 00:00:00\n",
            "1970-12-12 13:24:34\n"
          ]
        }
      ]
    },
    {
      "cell_type": "code",
      "source": [
        "# 시간 계산\n",
        "diff1 = t1 - t2\n",
        "\n",
        "print(diff1)\n",
        "print(type(diff1))"
      ],
      "metadata": {
        "colab": {
          "base_uri": "https://localhost:8080/"
        },
        "id": "6r4EJklwuTdn",
        "outputId": "1590941d-f55f-4a4d-a5cb-4297e40de594"
      },
      "execution_count": 5,
      "outputs": [
        {
          "output_type": "stream",
          "name": "stdout",
          "text": [
            "19447 days, 13:31:47.549588\n",
            "<class 'datetime.timedelta'>\n"
          ]
        }
      ]
    },
    {
      "cell_type": "code",
      "source": [
        "diff2 = t2 - t1\n",
        "\n",
        "print(diff2)\n",
        "print(type(diff2))"
      ],
      "metadata": {
        "colab": {
          "base_uri": "https://localhost:8080/"
        },
        "id": "jzglD0cxuTbM",
        "outputId": "7b222747-415f-4c0e-8d02-3e3a1d3d9df4"
      },
      "execution_count": 6,
      "outputs": [
        {
          "output_type": "stream",
          "name": "stdout",
          "text": [
            "-19448 days, 10:28:12.450412\n",
            "<class 'datetime.timedelta'>\n"
          ]
        }
      ]
    },
    {
      "cell_type": "markdown",
      "source": [
        "**테슬라 주식 데이터로 시간 계산하기**"
      ],
      "metadata": {
        "id": "IHK6ogs8xr7z"
      }
    },
    {
      "cell_type": "code",
      "source": [
        "pip install pandas-datareader"
      ],
      "metadata": {
        "colab": {
          "base_uri": "https://localhost:8080/"
        },
        "id": "CDF2wgyzuTYU",
        "outputId": "287c0f59-ba29-406d-f9d9-9c8a36837fcd"
      },
      "execution_count": 21,
      "outputs": [
        {
          "output_type": "stream",
          "name": "stdout",
          "text": [
            "Looking in indexes: https://pypi.org/simple, https://us-python.pkg.dev/colab-wheels/public/simple/\n",
            "Requirement already satisfied: pandas-datareader in /usr/local/lib/python3.9/dist-packages (0.10.0)\n",
            "Requirement already satisfied: requests>=2.19.0 in /usr/local/lib/python3.9/dist-packages (from pandas-datareader) (2.27.1)\n",
            "Requirement already satisfied: lxml in /usr/local/lib/python3.9/dist-packages (from pandas-datareader) (4.9.2)\n",
            "Requirement already satisfied: pandas>=0.23 in /usr/local/lib/python3.9/dist-packages (from pandas-datareader) (1.4.4)\n",
            "Requirement already satisfied: pytz>=2020.1 in /usr/local/lib/python3.9/dist-packages (from pandas>=0.23->pandas-datareader) (2022.7.1)\n",
            "Requirement already satisfied: numpy>=1.18.5 in /usr/local/lib/python3.9/dist-packages (from pandas>=0.23->pandas-datareader) (1.22.4)\n",
            "Requirement already satisfied: python-dateutil>=2.8.1 in /usr/local/lib/python3.9/dist-packages (from pandas>=0.23->pandas-datareader) (2.8.2)\n",
            "Requirement already satisfied: charset-normalizer~=2.0.0 in /usr/local/lib/python3.9/dist-packages (from requests>=2.19.0->pandas-datareader) (2.0.12)\n",
            "Requirement already satisfied: idna<4,>=2.5 in /usr/local/lib/python3.9/dist-packages (from requests>=2.19.0->pandas-datareader) (3.4)\n",
            "Requirement already satisfied: certifi>=2017.4.17 in /usr/local/lib/python3.9/dist-packages (from requests>=2.19.0->pandas-datareader) (2022.12.7)\n",
            "Requirement already satisfied: urllib3<1.27,>=1.21.1 in /usr/local/lib/python3.9/dist-packages (from requests>=2.19.0->pandas-datareader) (1.26.15)\n",
            "Requirement already satisfied: six>=1.5 in /usr/local/lib/python3.9/dist-packages (from python-dateutil>=2.8.1->pandas>=0.23->pandas-datareader) (1.16.0)\n"
          ]
        }
      ]
    },
    {
      "cell_type": "code",
      "source": [
        "# 데이터 불러오기\n",
        "import pandas as pd\n",
        "pd.core.common.is_list_like = pd.api.types.is_list_like\n",
        "import pandas_datareader as pdr\n",
        "\n",
        "# get_data_quandl 메서드에 TSLA 문자열 전달하여 tesla에 데이터프라임 저장\n",
        "# tesla = pdr.get_data_quandl('TSLA', api_key='ghZfxPiWMzTc8rzQiJVq')\n",
        "# tesla = pdr.get_data_quandl('TSLA', api_key='G2Ymro5_JXtjkoUKpZLw')\n",
        "# tesla = pdr.get_data_quandl('TSLA', api_key='DJ-g2ZZMoxHV2_Q61bzZ')\n",
        "\n",
        "# to_csv 메서드 사용하여 tesla에 저장된 데이터프레임을 파일로 저장\n",
        "# tesla.to_csv('/content/drive/MyDrive/esaa/data/tesla_stock_quandl.csv')\n",
        "\n",
        "tesla = pd.read_csv('/content/drive/MyDrive/esaa/data/TSLA.csv')"
      ],
      "metadata": {
        "id": "3TZ_YjVOuTVc"
      },
      "execution_count": 44,
      "outputs": []
    },
    {
      "cell_type": "code",
      "source": [
        "# Date 열은 문자열로 저장되어있음을 확인\n",
        "print(tesla.head())"
      ],
      "metadata": {
        "colab": {
          "base_uri": "https://localhost:8080/"
        },
        "id": "ls-7CqAGuTSp",
        "outputId": "fb280453-69e8-4bae-a2b2-16920c317b26"
      },
      "execution_count": 45,
      "outputs": [
        {
          "output_type": "stream",
          "name": "stdout",
          "text": [
            "         Date      Open      High       Low     Close  Adj Close     Volume\n",
            "0  2010-06-29  1.266667  1.666667  1.169333  1.592667   1.592667  281494500\n",
            "1  2010-06-30  1.719333  2.028000  1.553333  1.588667   1.588667  257806500\n",
            "2  2010-07-01  1.666667  1.728000  1.351333  1.464000   1.464000  123282000\n",
            "3  2010-07-02  1.533333  1.540000  1.247333  1.280000   1.280000   77097000\n",
            "4  2010-07-06  1.333333  1.333333  1.055333  1.074000   1.074000  103003500\n"
          ]
        }
      ]
    },
    {
      "cell_type": "code",
      "source": [
        "# Date 열을 Datetime 형으로 변환 - read_csv 메서드로 데이터 집합을 불러올 때 parse_dates 인자에 Date 열 전달\n",
        "# tesla = pd.read_csv('/content/drive/MyDrive/esaa/data/tesla_stock_quandl.csv', parse_dates=[0])\n",
        "tesla['Date'] = pd.to_datetime(tesla['Date'])\n",
        "print(tesla.info())"
      ],
      "metadata": {
        "colab": {
          "base_uri": "https://localhost:8080/"
        },
        "id": "XERz5qhIuTP9",
        "outputId": "01daeb22-b59d-4901-d215-0f9f0b8b7369"
      },
      "execution_count": 46,
      "outputs": [
        {
          "output_type": "stream",
          "name": "stdout",
          "text": [
            "<class 'pandas.core.frame.DataFrame'>\n",
            "RangeIndex: 3211 entries, 0 to 3210\n",
            "Data columns (total 7 columns):\n",
            " #   Column     Non-Null Count  Dtype         \n",
            "---  ------     --------------  -----         \n",
            " 0   Date       3211 non-null   datetime64[ns]\n",
            " 1   Open       3211 non-null   float64       \n",
            " 2   High       3211 non-null   float64       \n",
            " 3   Low        3211 non-null   float64       \n",
            " 4   Close      3211 non-null   float64       \n",
            " 5   Adj Close  3211 non-null   float64       \n",
            " 6   Volume     3211 non-null   int64         \n",
            "dtypes: datetime64[ns](1), float64(5), int64(1)\n",
            "memory usage: 175.7 KB\n",
            "None\n"
          ]
        }
      ]
    },
    {
      "cell_type": "code",
      "source": [
        "# dt 접근자 사용 가능, 불린 추출로 2010년 6월의 데이터만 추출\n",
        "print(tesla.loc[(tesla.Date.dt.year == 2010) & (tesla.Date.dt.month == 6)])"
      ],
      "metadata": {
        "colab": {
          "base_uri": "https://localhost:8080/"
        },
        "id": "cijWon8NuTM9",
        "outputId": "e16bfa83-8265-45c3-8951-28fa7c45b5a1"
      },
      "execution_count": 47,
      "outputs": [
        {
          "output_type": "stream",
          "name": "stdout",
          "text": [
            "        Date      Open      High       Low     Close  Adj Close     Volume\n",
            "0 2010-06-29  1.266667  1.666667  1.169333  1.592667   1.592667  281494500\n",
            "1 2010-06-30  1.719333  2.028000  1.553333  1.588667   1.588667  257806500\n"
          ]
        }
      ]
    },
    {
      "cell_type": "markdown",
      "source": [
        "**datetime 오브젝트와 인덱스 - DatetimeIndex**\n",
        "\n",
        "datetime 오브젝트를 데이터프레임의 인덱스로 설정하면 원하는 시간의 데이터 바로 추출 가능"
      ],
      "metadata": {
        "id": "qi3yJqTK1sPU"
      }
    },
    {
      "cell_type": "code",
      "source": [
        "# Date 열을 tesla 데이터프레임의 인덱스로 지정\n",
        "tesla.index = tesla['Date']\n",
        "print(tesla.index)"
      ],
      "metadata": {
        "colab": {
          "base_uri": "https://localhost:8080/"
        },
        "id": "Q6JOD6JiuTKP",
        "outputId": "92908822-fef5-4a93-a707-58d7e667d91a"
      },
      "execution_count": 48,
      "outputs": [
        {
          "output_type": "stream",
          "name": "stdout",
          "text": [
            "DatetimeIndex(['2010-06-29', '2010-06-30', '2010-07-01', '2010-07-02',\n",
            "               '2010-07-06', '2010-07-07', '2010-07-08', '2010-07-09',\n",
            "               '2010-07-12', '2010-07-13',\n",
            "               ...\n",
            "               '2023-03-17', '2023-03-20', '2023-03-21', '2023-03-22',\n",
            "               '2023-03-23', '2023-03-24', '2023-03-27', '2023-03-28',\n",
            "               '2023-03-29', '2023-03-30'],\n",
            "              dtype='datetime64[ns]', name='Date', length=3211, freq=None)\n"
          ]
        }
      ]
    },
    {
      "cell_type": "code",
      "source": [
        "# 2015년 데이터 추출\n",
        "print(tesla['2015'].iloc[:5, :5])"
      ],
      "metadata": {
        "colab": {
          "base_uri": "https://localhost:8080/"
        },
        "id": "7cqPteJ3uTHH",
        "outputId": "daa084e1-4db2-42f9-94fe-3bb5e4e6ac37"
      },
      "execution_count": 49,
      "outputs": [
        {
          "output_type": "stream",
          "name": "stdout",
          "text": [
            "                 Date       Open       High        Low      Close\n",
            "Date                                                             \n",
            "2015-01-02 2015-01-02  14.858000  14.883333  14.217333  14.620667\n",
            "2015-01-05 2015-01-05  14.303333  14.433333  13.810667  14.006000\n",
            "2015-01-06 2015-01-06  14.004000  14.280000  13.614000  14.085333\n",
            "2015-01-07 2015-01-07  14.223333  14.318667  13.985333  14.063333\n",
            "2015-01-08 2015-01-08  14.187333  14.253333  14.000667  14.041333\n"
          ]
        },
        {
          "output_type": "stream",
          "name": "stderr",
          "text": [
            "<ipython-input-49-d5252d9bcafd>:2: FutureWarning: Indexing a DataFrame with a datetimelike index using a single string to slice the rows, like `frame[string]`, is deprecated and will be removed in a future version. Use `frame.loc[string]` instead.\n",
            "  print(tesla['2015'].iloc[:5, :5])\n"
          ]
        }
      ]
    },
    {
      "cell_type": "code",
      "source": [
        "# 2010년 6월 데이터 추출\n",
        "print(tesla['2010-06'].iloc[:, :5])"
      ],
      "metadata": {
        "colab": {
          "base_uri": "https://localhost:8080/"
        },
        "id": "1Ginmtx5uTDv",
        "outputId": "d2fa3539-c5f9-49f0-b9c1-8e7b9385dbe5"
      },
      "execution_count": 50,
      "outputs": [
        {
          "output_type": "stream",
          "name": "stdout",
          "text": [
            "                 Date      Open      High       Low     Close\n",
            "Date                                                         \n",
            "2010-06-29 2010-06-29  1.266667  1.666667  1.169333  1.592667\n",
            "2010-06-30 2010-06-30  1.719333  2.028000  1.553333  1.588667\n"
          ]
        },
        {
          "output_type": "stream",
          "name": "stderr",
          "text": [
            "<ipython-input-50-ac975641dc83>:2: FutureWarning: Indexing a DataFrame with a datetimelike index using a single string to slice the rows, like `frame[string]`, is deprecated and will be removed in a future version. Use `frame.loc[string]` instead.\n",
            "  print(tesla['2010-06'].iloc[:, :5])\n"
          ]
        }
      ]
    },
    {
      "cell_type": "markdown",
      "source": [
        "**시간 간격과 인덱스 - TimedeltaIndex**\n",
        "\n",
        "시간 간격을 인덱스로 지정하여 데이터 추출"
      ],
      "metadata": {
        "id": "2F_r9urb21Qy"
      }
    },
    {
      "cell_type": "code",
      "source": [
        "# 시간 - 시간의 최솟값 = 시간 간격\n",
        "tesla['ref_date'] = tesla['Date'] - tesla['Date'].min()\n",
        "print(tesla.head())"
      ],
      "metadata": {
        "colab": {
          "base_uri": "https://localhost:8080/"
        },
        "id": "gh0yX5uYuTA2",
        "outputId": "f57c68e2-c9e5-482e-cc5d-4378a7c2a39b"
      },
      "execution_count": 51,
      "outputs": [
        {
          "output_type": "stream",
          "name": "stdout",
          "text": [
            "                 Date      Open      High       Low     Close  Adj Close  \\\n",
            "Date                                                                       \n",
            "2010-06-29 2010-06-29  1.266667  1.666667  1.169333  1.592667   1.592667   \n",
            "2010-06-30 2010-06-30  1.719333  2.028000  1.553333  1.588667   1.588667   \n",
            "2010-07-01 2010-07-01  1.666667  1.728000  1.351333  1.464000   1.464000   \n",
            "2010-07-02 2010-07-02  1.533333  1.540000  1.247333  1.280000   1.280000   \n",
            "2010-07-06 2010-07-06  1.333333  1.333333  1.055333  1.074000   1.074000   \n",
            "\n",
            "               Volume ref_date  \n",
            "Date                            \n",
            "2010-06-29  281494500   0 days  \n",
            "2010-06-30  257806500   1 days  \n",
            "2010-07-01  123282000   2 days  \n",
            "2010-07-02   77097000   3 days  \n",
            "2010-07-06  103003500   7 days  \n"
          ]
        }
      ]
    },
    {
      "cell_type": "code",
      "source": [
        "# ref_date로 인덱스 설정\n",
        "tesla.index = tesla['ref_date']\n",
        "print(tesla.iloc[:5, :5])"
      ],
      "metadata": {
        "colab": {
          "base_uri": "https://localhost:8080/"
        },
        "id": "pb1xVU7juS9z",
        "outputId": "b8150fa6-9b28-42e9-e4d4-4c2a2080298c"
      },
      "execution_count": 52,
      "outputs": [
        {
          "output_type": "stream",
          "name": "stdout",
          "text": [
            "               Date      Open      High       Low     Close\n",
            "ref_date                                                   \n",
            "0 days   2010-06-29  1.266667  1.666667  1.169333  1.592667\n",
            "1 days   2010-06-30  1.719333  2.028000  1.553333  1.588667\n",
            "2 days   2010-07-01  1.666667  1.728000  1.351333  1.464000\n",
            "3 days   2010-07-02  1.533333  1.540000  1.247333  1.280000\n",
            "7 days   2010-07-06  1.333333  1.333333  1.055333  1.074000\n"
          ]
        }
      ]
    },
    {
      "cell_type": "code",
      "source": [
        "print(tesla['5 days':].iloc[:5, :5])"
      ],
      "metadata": {
        "colab": {
          "base_uri": "https://localhost:8080/"
        },
        "id": "S1mJbHU-uS7R",
        "outputId": "d0fa28e7-63ca-4c3f-e1d3-73e2b6daf329"
      },
      "execution_count": 53,
      "outputs": [
        {
          "output_type": "stream",
          "name": "stdout",
          "text": [
            "               Date      Open      High       Low     Close\n",
            "ref_date                                                   \n",
            "7 days   2010-07-06  1.333333  1.333333  1.055333  1.074000\n",
            "8 days   2010-07-07  1.093333  1.108667  0.998667  1.053333\n",
            "9 days   2010-07-08  1.076000  1.168000  1.038000  1.164000\n",
            "10 days  2010-07-09  1.172000  1.193333  1.103333  1.160000\n",
            "13 days  2010-07-12  1.196667  1.204667  1.133333  1.136667\n"
          ]
        }
      ]
    },
    {
      "cell_type": "markdown",
      "source": [
        "**시간 범위와 인덱스**\n",
        "\n",
        "특정일에 누락된 데이터도 포함시켜 데이터를 살펴보려고 한다면 임의로 시간 범위를 생성하여 인덱스로 지정해야 한다"
      ],
      "metadata": {
        "id": "Ag0KiYEi4Zj5"
      }
    },
    {
      "cell_type": "code",
      "source": [
        "ebola = pd.read_csv('/content/drive/MyDrive/esaa/data/country_timeseries.csv', parse_dates=[0])\n",
        "print(ebola.iloc[:5,:5])"
      ],
      "metadata": {
        "id": "LSluJT3nuS4V",
        "colab": {
          "base_uri": "https://localhost:8080/"
        },
        "outputId": "2208f062-3ff0-4839-ac0c-447216834f44"
      },
      "execution_count": 17,
      "outputs": [
        {
          "output_type": "stream",
          "name": "stdout",
          "text": [
            "        Date  Day  Cases_Guinea  Cases_Liberia  Cases_SierraLeone\n",
            "0 2015-01-05  289        2776.0            NaN            10030.0\n",
            "1 2015-01-04  288        2775.0            NaN             9780.0\n",
            "2 2015-01-03  287        2769.0         8166.0             9722.0\n",
            "3 2015-01-02  286           NaN         8157.0                NaN\n",
            "4 2014-12-31  284        2730.0         8115.0             9633.0\n"
          ]
        }
      ]
    },
    {
      "cell_type": "code",
      "source": [
        "print(ebola.iloc[:-5, :5])  # 누락 확인 가능"
      ],
      "metadata": {
        "id": "Hfp7QTLtuS1t",
        "colab": {
          "base_uri": "https://localhost:8080/"
        },
        "outputId": "7fae7bc0-30d9-45eb-8a70-004a6f3d65c1"
      },
      "execution_count": 18,
      "outputs": [
        {
          "output_type": "stream",
          "name": "stdout",
          "text": [
            "          Date  Day  Cases_Guinea  Cases_Liberia  Cases_SierraLeone\n",
            "0   2015-01-05  289        2776.0            NaN            10030.0\n",
            "1   2015-01-04  288        2775.0            NaN             9780.0\n",
            "2   2015-01-03  287        2769.0         8166.0             9722.0\n",
            "3   2015-01-02  286           NaN         8157.0                NaN\n",
            "4   2014-12-31  284        2730.0         8115.0             9633.0\n",
            "..         ...  ...           ...            ...                ...\n",
            "112 2014-04-04   13         143.0           18.0                2.0\n",
            "113 2014-04-01   10         127.0            8.0                2.0\n",
            "114 2014-03-31    9         122.0            8.0                2.0\n",
            "115 2014-03-29    7         112.0            7.0                NaN\n",
            "116 2014-03-28    6         112.0            3.0                2.0\n",
            "\n",
            "[117 rows x 5 columns]\n"
          ]
        }
      ]
    },
    {
      "cell_type": "code",
      "source": [
        "# 2014년 12월 31일부터 2015년 1월 5일 사이의 시간 인덱스 생성\n",
        "head_range = pd.date_range(start='2014-12-31', end='2015-01-05')\n",
        "print(head_range)"
      ],
      "metadata": {
        "id": "mZqsxr1SuSy1",
        "colab": {
          "base_uri": "https://localhost:8080/"
        },
        "outputId": "f77db2b2-b52a-435a-c752-309e65e14705"
      },
      "execution_count": 19,
      "outputs": [
        {
          "output_type": "stream",
          "name": "stdout",
          "text": [
            "DatetimeIndex(['2014-12-31', '2015-01-01', '2015-01-02', '2015-01-03',\n",
            "               '2015-01-04', '2015-01-05'],\n",
            "              dtype='datetime64[ns]', freq='D')\n"
          ]
        }
      ]
    },
    {
      "cell_type": "code",
      "source": [
        "ebola_5 = ebola.head()\n",
        "ebola_5.index = ebola_5['Date']\n",
        "ebola_5.reindex(head_range)\n",
        "print(ebola_5.iloc[:5, :5])"
      ],
      "metadata": {
        "id": "aTJL3SVouSv-",
        "colab": {
          "base_uri": "https://localhost:8080/"
        },
        "outputId": "8fde0021-89ca-41e7-d095-57911774beba"
      },
      "execution_count": 20,
      "outputs": [
        {
          "output_type": "stream",
          "name": "stdout",
          "text": [
            "                 Date  Day  Cases_Guinea  Cases_Liberia  Cases_SierraLeone\n",
            "Date                                                                      \n",
            "2015-01-05 2015-01-05  289        2776.0            NaN            10030.0\n",
            "2015-01-04 2015-01-04  288        2775.0            NaN             9780.0\n",
            "2015-01-03 2015-01-03  287        2769.0         8166.0             9722.0\n",
            "2015-01-02 2015-01-02  286           NaN         8157.0                NaN\n",
            "2014-12-31 2014-12-31  284        2730.0         8115.0             9633.0\n"
          ]
        }
      ]
    },
    {
      "cell_type": "markdown",
      "source": [
        "**시간 범위의 주기 설정하기**\n",
        "\n",
        "시간 범위를 인덱스로 지정하면 DatetimeIndex 자료형이 만들어진다 DatetimeIndex에는 freq 속성이 포함되어 있다 freq 속성값을 지정하면 시간 간격을 조절하여 DatetimeIndex를 만들 수 있다\n",
        "\n",
        "freq 속성값으로 사용할 수 있는 시간 주기\n",
        "* B: 평일만 포함\n",
        "* C: 사용자가 정의한 평일만 포함\n",
        "* D: 달력 일자 단위\n",
        "* W: 주간 단위\n",
        "* M: 월 마지막 날만 포함\n",
        "* SM: 15일과 월 마지막 날만 포함\n",
        "* BM: M 주기의 값이 휴일이면 제외하고 평일만 포함\n",
        "* CBM: BM에 사용자 정의 평일을 적용\n",
        "* MS: 월 시작일만 포함\n",
        "* SMS: 월 시작일과 15일만 포함\n",
        "* BMS: MS 주기의 값이 휴일이면 제외하고 평일만 포함\n",
        "* CBMS: BMS에 사용자 정의 평일을 적용\n",
        "* Q: 3, 6, 9, 12월 분기 마지막 날만 포함\n",
        "* BQ: 3, 6, 9, 12월 분기 마지막 날이 휴일이면 제외하고 평일만 포함\n",
        "* QS: 3, 6, 9, 12월 분기 시작일만 포함\n",
        "* BQS: 3, 6, 9, 12월 분기 시작일이 휴일이면 제외하고 평일만 포함\n",
        "* A: 년의 마지막 날만 포함\n",
        "* BA: 년의 마지막 날이 휴일이면 제외하고 평일만 포함\n",
        "* AS: 년의 시작일만 포함\n",
        "* BAS: 년의 시작일이 휴일이면 제외하고 평일만 포함\n",
        "* BH: 평일을 시간 단위로 포함(09:00 ~ 16:00)\n",
        "* H: 시간 단위로 포함(00:00 ~ 00:00)\n",
        "* T: 분 단위 포함\n",
        "* S: 초 단위 포함\n",
        "* L: 밀리초 단위 포함\n",
        "* U: 마이크로초 단위포함\n",
        "* N: 나노초 단위 포함\n"
      ],
      "metadata": {
        "id": "ujmZl5BT81ga"
      }
    }
  ]
}